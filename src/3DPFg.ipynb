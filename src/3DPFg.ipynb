{
 "cells": [
  {
   "cell_type": "code",
   "execution_count": 3,
   "id": "c3c9d698",
   "metadata": {},
   "outputs": [],
   "source": [
    "import numpy as np\n",
    "import torch\n",
    "import torch.nn as nn\n",
    "\n",
    "import transformers"
   ]
  },
  {
   "cell_type": "code",
   "execution_count": 2,
   "id": "dc9bd197",
   "metadata": {},
   "outputs": [
    {
     "name": "stdout",
     "output_type": "stream",
     "text": [
      "Collecting transformers\n",
      "  Downloading transformers-4.10.0-py3-none-any.whl (2.8 MB)\n",
      "Requirement already satisfied: packaging in c:\\users\\y007c\\anaconda3\\envs\\tensorflow\\lib\\site-packages (from transformers) (20.9)\n",
      "Collecting filelock\n",
      "  Downloading filelock-3.0.12-py3-none-any.whl (7.6 kB)\n",
      "Collecting huggingface-hub>=0.0.12\n",
      "  Downloading huggingface_hub-0.0.16-py3-none-any.whl (50 kB)\n",
      "Collecting regex!=2019.12.17\n",
      "  Downloading regex-2021.8.28-cp37-cp37m-win_amd64.whl (270 kB)\n",
      "Collecting tqdm>=4.27\n",
      "  Downloading tqdm-4.62.2-py2.py3-none-any.whl (76 kB)\n",
      "Requirement already satisfied: requests in c:\\users\\y007c\\anaconda3\\envs\\tensorflow\\lib\\site-packages (from transformers) (2.25.1)\n",
      "Requirement already satisfied: importlib-metadata in c:\\users\\y007c\\anaconda3\\envs\\tensorflow\\lib\\site-packages (from transformers) (3.7.3)\n",
      "Collecting sacremoses\n",
      "  Downloading sacremoses-0.0.45-py3-none-any.whl (895 kB)\n",
      "Requirement already satisfied: pyyaml>=5.1 in c:\\users\\y007c\\anaconda3\\envs\\tensorflow\\lib\\site-packages (from transformers) (5.4.1)\n",
      "Requirement already satisfied: numpy>=1.17 in c:\\users\\y007c\\anaconda3\\envs\\tensorflow\\lib\\site-packages (from transformers) (1.19.2)\n",
      "Collecting tokenizers<0.11,>=0.10.1\n",
      "  Downloading tokenizers-0.10.3-cp37-cp37m-win_amd64.whl (2.0 MB)\n",
      "Requirement already satisfied: typing-extensions in c:\\users\\y007c\\anaconda3\\envs\\tensorflow\\lib\\site-packages (from huggingface-hub>=0.0.12->transformers) (3.7.4.3)\n",
      "Requirement already satisfied: pyparsing>=2.0.2 in c:\\users\\y007c\\anaconda3\\envs\\tensorflow\\lib\\site-packages (from packaging->transformers) (2.4.7)\n",
      "Requirement already satisfied: colorama in c:\\users\\y007c\\anaconda3\\envs\\tensorflow\\lib\\site-packages (from tqdm>=4.27->transformers) (0.4.4)\n",
      "Requirement already satisfied: zipp>=0.5 in c:\\users\\y007c\\anaconda3\\envs\\tensorflow\\lib\\site-packages (from importlib-metadata->transformers) (3.4.1)\n",
      "Requirement already satisfied: urllib3<1.27,>=1.21.1 in c:\\users\\y007c\\anaconda3\\envs\\tensorflow\\lib\\site-packages (from requests->transformers) (1.26.6)\n",
      "Requirement already satisfied: idna<3,>=2.5 in c:\\users\\y007c\\anaconda3\\envs\\tensorflow\\lib\\site-packages (from requests->transformers) (2.10)\n",
      "Requirement already satisfied: certifi>=2017.4.17 in c:\\users\\y007c\\anaconda3\\envs\\tensorflow\\lib\\site-packages (from requests->transformers) (2021.5.30)\n",
      "Requirement already satisfied: chardet<5,>=3.0.2 in c:\\users\\y007c\\anaconda3\\envs\\tensorflow\\lib\\site-packages (from requests->transformers) (4.0.0)\n",
      "Collecting joblib\n",
      "  Downloading joblib-1.0.1-py3-none-any.whl (303 kB)\n",
      "Requirement already satisfied: six in c:\\users\\y007c\\anaconda3\\envs\\tensorflow\\lib\\site-packages (from sacremoses->transformers) (1.15.0)\n",
      "Collecting click\n",
      "  Downloading click-8.0.1-py3-none-any.whl (97 kB)\n",
      "Installing collected packages: tqdm, regex, joblib, filelock, click, tokenizers, sacremoses, huggingface-hub, transformers\n",
      "Successfully installed click-8.0.1 filelock-3.0.12 huggingface-hub-0.0.16 joblib-1.0.1 regex-2021.8.28 sacremoses-0.0.45 tokenizers-0.10.3 tqdm-4.62.2 transformers-4.10.0\n"
     ]
    }
   ],
   "source": [
    "!pip install transformers"
   ]
  },
  {
   "cell_type": "code",
   "execution_count": 4,
   "id": "a5df259e",
   "metadata": {},
   "outputs": [],
   "source": [
    "state, action, return_to_go = [], [], []"
   ]
  },
  {
   "cell_type": "code",
   "execution_count": 5,
   "id": "6c92be55",
   "metadata": {},
   "outputs": [],
   "source": [
    "time_step = []"
   ]
  },
  {
   "cell_type": "code",
   "execution_count": 6,
   "id": "f3f96406",
   "metadata": {},
   "outputs": [],
   "source": [
    "num_actions = 34\n",
    "num_states = 8 * 5 + 2"
   ]
  },
  {
   "cell_type": "markdown",
   "id": "9332ddb6",
   "metadata": {},
   "source": [
    "## 노가다 작업은 json으로 미리 저장하기"
   ]
  },
  {
   "cell_type": "code",
   "execution_count": 7,
   "id": "ad1083c6",
   "metadata": {},
   "outputs": [],
   "source": [
    "import json"
   ]
  },
  {
   "cell_type": "code",
   "execution_count": 14,
   "id": "cfae6beb",
   "metadata": {},
   "outputs": [],
   "source": [
    "action_input_list = ['Wait', 'W', 'A', 'S', 'D',\n",
    "                     'WA', 'WD', 'SD', 'SA',\n",
    "                     'Ws', 'As', 'Ss', 'Ds',\n",
    "                     'WAs', 'WDs', 'SDs', 'SAs',\n",
    "                     'Wj', 'Aj', 'Sj', 'Dj',\n",
    "                     'WAj', 'WDj', 'SDj', 'SAj',\n",
    "                     'Wsj', 'Asj', 'Ssj', 'Dsj',\n",
    "                     'WAsj', 'WDsj', 'SDsj', 'SAsj']\n",
    "num_action_input = len(action_input_list)"
   ]
  },
  {
   "cell_type": "code",
   "execution_count": 15,
   "id": "c13f464e",
   "metadata": {},
   "outputs": [],
   "source": [
    "action_ids = {}\n",
    "for id in range(num_action_input):\n",
    "    action_ids[action_input_list[id]] = id"
   ]
  },
  {
   "cell_type": "code",
   "execution_count": 16,
   "id": "df8480fe",
   "metadata": {},
   "outputs": [
    {
     "name": "stdout",
     "output_type": "stream",
     "text": [
      "{'Wait': 0, 'W': 1, 'A': 2, 'S': 3, 'D': 4, 'WA': 5, 'WD': 6, 'SD': 7, 'SA': 8, 'Ws': 9, 'As': 10, 'Ss': 11, 'Ds': 12, 'WAs': 13, 'WDs': 14, 'SDs': 15, 'SAs': 16, 'Wj': 17, 'Aj': 18, 'Sj': 19, 'Dj': 20, 'WAj': 21, 'WDj': 22, 'SDj': 23, 'SAj': 24, 'Wsj': 25, 'Asj': 26, 'Ssj': 27, 'Dsj': 28, 'WAsj': 29, 'WDsj': 30, 'SDsj': 31, 'SAsj': 32}\n"
     ]
    }
   ],
   "source": [
    "print(action_ids)"
   ]
  },
  {
   "cell_type": "code",
   "execution_count": 23,
   "id": "1dd1b6e9",
   "metadata": {},
   "outputs": [],
   "source": [
    "with open('json/action_ids.json', 'w', encoding='utf-8') as f:\n",
    "    json.dump(action_ids, f, ensure_ascii=False, indent='\\t')"
   ]
  },
  {
   "cell_type": "code",
   "execution_count": 31,
   "id": "82e6a7ed",
   "metadata": {},
   "outputs": [],
   "source": [
    "state_position_list = ['field', 'wall', 'lowair', 'highair']\n",
    "state_stamina_list = ['0-19', '20-39', '40-59', '60-79', '80-100']\n",
    "state_special_list = ['death', 'goal']\n",
    "\n",
    "num_state_position_list = len(state_position_list)\n",
    "num_state_stamina_list = len(state_stamina_list)\n",
    "num_state_special_list = len(state_special_list)\n",
    "\n",
    "num_state_ids = num_state_position_list * num_state_stamina_list + num_state_special_list"
   ]
  },
  {
   "cell_type": "code",
   "execution_count": 32,
   "id": "d61c4416",
   "metadata": {},
   "outputs": [],
   "source": [
    "state_ids = {}\n",
    "state_id_value = 0\n",
    "for position in state_position_list:\n",
    "    sub_state = {}\n",
    "    for stamina in state_stamina_list:\n",
    "        sub_state[stamina] = state_id_value\n",
    "        state_id_value += 1\n",
    "    state_ids[position] = sub_state\n",
    "    \n",
    "for special in state_special_list:\n",
    "    state_ids[special] = state_id_value\n",
    "    state_id_value += 1"
   ]
  },
  {
   "cell_type": "code",
   "execution_count": 33,
   "id": "c33ae898",
   "metadata": {},
   "outputs": [
    {
     "name": "stdout",
     "output_type": "stream",
     "text": [
      "{'field': {'0-19': 0, '20-39': 1, '40-59': 2, '60-79': 3, '80-100': 4}, 'wall': {'0-19': 5, '20-39': 6, '40-59': 7, '60-79': 8, '80-100': 9}, 'lowair': {'0-19': 10, '20-39': 11, '40-59': 12, '60-79': 13, '80-100': 14}, 'highair': {'0-19': 15, '20-39': 16, '40-59': 17, '60-79': 18, '80-100': 19}, 'death': 20, 'goal': 21}\n"
     ]
    }
   ],
   "source": [
    "print(state_ids)"
   ]
  },
  {
   "cell_type": "code",
   "execution_count": 34,
   "id": "b34c2558",
   "metadata": {},
   "outputs": [],
   "source": [
    "with open('json/state_ids.json', 'w', encoding='utf-8') as f:\n",
    "    json.dump(state_ids, f, ensure_ascii=False, indent='\\t')"
   ]
  },
  {
   "cell_type": "code",
   "execution_count": null,
   "id": "7fe7430c",
   "metadata": {},
   "outputs": [],
   "source": []
  },
  {
   "cell_type": "code",
   "execution_count": null,
   "id": "b3e20cef",
   "metadata": {},
   "outputs": [],
   "source": []
  },
  {
   "cell_type": "code",
   "execution_count": null,
   "id": "558e8fef",
   "metadata": {},
   "outputs": [],
   "source": []
  },
  {
   "cell_type": "code",
   "execution_count": null,
   "id": "afb1bf85",
   "metadata": {},
   "outputs": [],
   "source": []
  }
 ],
 "metadata": {
  "kernelspec": {
   "display_name": "Python 3",
   "language": "python",
   "name": "python3"
  },
  "language_info": {
   "codemirror_mode": {
    "name": "ipython",
    "version": 3
   },
   "file_extension": ".py",
   "mimetype": "text/x-python",
   "name": "python",
   "nbconvert_exporter": "python",
   "pygments_lexer": "ipython3",
   "version": "3.7.10"
  }
 },
 "nbformat": 4,
 "nbformat_minor": 5
}
