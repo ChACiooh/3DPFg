{
 "cells": [
  {
   "cell_type": "code",
   "execution_count": null,
   "source": [
    "!pip install numpy"
   ],
   "outputs": [],
   "metadata": {}
  },
  {
   "cell_type": "code",
   "execution_count": null,
   "source": [
    "!pip install transformers"
   ],
   "outputs": [],
   "metadata": {}
  },
  {
   "cell_type": "code",
   "execution_count": null,
   "source": [
    "!pip install torch"
   ],
   "outputs": [],
   "metadata": {}
  },
  {
   "cell_type": "code",
   "execution_count": null,
   "source": [
    "import numpy as np\r\n",
    "import torch\r\n",
    "import torch.nn as nn\r\n",
    "\r\n",
    "import transformers"
   ],
   "outputs": [],
   "metadata": {}
  },
  {
   "cell_type": "code",
   "execution_count": null,
   "source": [
    "state, action, return_to_go = [], [], []"
   ],
   "outputs": [],
   "metadata": {}
  },
  {
   "cell_type": "code",
   "execution_count": null,
   "source": [
    "time_step = []"
   ],
   "outputs": [],
   "metadata": {}
  },
  {
   "cell_type": "code",
   "execution_count": null,
   "source": [
    "num_actions = 34\r\n",
    "num_states = 8 * 5 + 2"
   ],
   "outputs": [],
   "metadata": {}
  },
  {
   "cell_type": "markdown",
   "source": [
    "## 노가다 작업은 json으로 미리 저장하기"
   ],
   "metadata": {}
  },
  {
   "cell_type": "code",
   "execution_count": null,
   "source": [
    "import json"
   ],
   "outputs": [],
   "metadata": {}
  },
  {
   "cell_type": "code",
   "execution_count": null,
   "source": [
    "action_input_list = ['Wait', 'W', 'A', 'S', 'D',\r\n",
    "                     'WA', 'WD', 'SD', 'SA',\r\n",
    "                     'Ws', 'As', 'Ss', 'Ds',\r\n",
    "                     'WAs', 'WDs', 'SDs', 'SAs',\r\n",
    "                     'Wj', 'Aj', 'Sj', 'Dj',\r\n",
    "                     'WAj', 'WDj', 'SDj', 'SAj',\r\n",
    "                     'Wsj', 'Asj', 'Ssj', 'Dsj',\r\n",
    "                     'WAsj', 'WDsj', 'SDsj', 'SAsj']\r\n",
    "num_action_input = len(action_input_list)"
   ],
   "outputs": [],
   "metadata": {}
  },
  {
   "cell_type": "code",
   "execution_count": null,
   "source": [
    "action_ids = {}\r\n",
    "for id in range(num_action_input):\r\n",
    "    action_ids[action_input_list[id]] = id"
   ],
   "outputs": [],
   "metadata": {}
  },
  {
   "cell_type": "code",
   "execution_count": null,
   "source": [
    "print(action_ids)"
   ],
   "outputs": [],
   "metadata": {}
  },
  {
   "cell_type": "code",
   "execution_count": null,
   "source": [
    "with open('json/action_ids.json', 'w', encoding='utf-8') as f:\r\n",
    "    json.dump(action_ids, f, ensure_ascii=False, indent='\\t')"
   ],
   "outputs": [],
   "metadata": {}
  },
  {
   "cell_type": "code",
   "execution_count": null,
   "source": [
    "state_position_list = ['field', 'wall', 'lowair', 'highair']\r\n",
    "state_stamina_list = ['0-19', '20-39', '40-59', '60-79', '80-100']\r\n",
    "state_special_list = ['death', 'goal']\r\n",
    "\r\n",
    "num_state_position_list = len(state_position_list)\r\n",
    "num_state_stamina_list = len(state_stamina_list)\r\n",
    "num_state_special_list = len(state_special_list)\r\n",
    "\r\n",
    "num_state_ids = num_state_position_list * num_state_stamina_list + num_state_special_list"
   ],
   "outputs": [],
   "metadata": {}
  },
  {
   "cell_type": "code",
   "execution_count": null,
   "source": [
    "state_ids = {}\r\n",
    "state_id_value = 0\r\n",
    "for position in state_position_list:\r\n",
    "    sub_state = {}\r\n",
    "    for stamina in state_stamina_list:\r\n",
    "        sub_state[stamina] = state_id_value\r\n",
    "        state_id_value += 1\r\n",
    "    state_ids[position] = sub_state\r\n",
    "    \r\n",
    "for special in state_special_list:\r\n",
    "    state_ids[special] = state_id_value\r\n",
    "    state_id_value += 1"
   ],
   "outputs": [],
   "metadata": {}
  },
  {
   "cell_type": "code",
   "execution_count": null,
   "source": [
    "print(state_ids)"
   ],
   "outputs": [],
   "metadata": {}
  },
  {
   "cell_type": "code",
   "execution_count": null,
   "source": [
    "with open('json/state_ids.json', 'w', encoding='utf-8') as f:\r\n",
    "    json.dump(state_ids, f, ensure_ascii=False, indent='\\t')"
   ],
   "outputs": [],
   "metadata": {}
  },
  {
   "cell_type": "code",
   "execution_count": null,
   "source": [],
   "outputs": [],
   "metadata": {}
  },
  {
   "cell_type": "markdown",
   "source": [
    "## 불러와서 시작"
   ],
   "metadata": {}
  },
  {
   "cell_type": "code",
   "execution_count": null,
   "source": [
    "import json\r\n",
    "\r\n",
    "with open('json/state_ids.json', 'r') as f:\r\n",
    "    state_ids = json.load(f)\r\n",
    "\r\n",
    "with open('json/action_ids.json', 'r') as f:\r\n",
    "    action_ids = json.load(f)\r\n",
    "    \r\n",
    "print(state_ids)\r\n",
    "print(len(state_ids['field']))\r\n",
    "\r\n",
    "num_states = 0\r\n",
    "for state in state_ids.keys():\r\n",
    "    if type(state_ids[state]) != int:\r\n",
    "        num_states += len(state_ids[state])\r\n",
    "    else:\r\n",
    "        num_states += state_ids[state]\r\n",
    "num_actions = len(action_ids)\r\n",
    "\r\n",
    "print(num_states, num_actions)\r\n",
    "print(action_ids)"
   ],
   "outputs": [],
   "metadata": {}
  },
  {
   "cell_type": "markdown",
   "source": [
    "Gaussian reference : https://codetorial.net/articles/normal_distribution.html"
   ],
   "metadata": {}
  },
  {
   "cell_type": "markdown",
   "source": [
    "### initialize the map"
   ],
   "metadata": {}
  },
  {
   "cell_type": "code",
   "execution_count": null,
   "source": [
    "map_info = np.zeros((100,100),dtype=np.float64)\r\n",
    "print(map_info)"
   ],
   "outputs": [],
   "metadata": {}
  },
  {
   "cell_type": "code",
   "execution_count": null,
   "source": [
    "import math\r\n",
    "# a : tangent of gaussian distribution\r\n",
    "# mu : mean, np.array([x, y])\r\n",
    "# radius_x : radius of x position of mean point\r\n",
    "# radius_y : radius of y position of mean point\r\n",
    "# s_2 : variance\r\n",
    "def gaussian(scale, mu, radius_x, radius_y, s_2):\r\n",
    "    global map_info\r\n",
    "    centre_x, centre_y = mu[0], mu[1]\r\n",
    "    for x in range(centre_x - radius_x, centre_x + radius_x):\r\n",
    "        for y in range(centre_y - radius_y, centre_y + radius_y):\r\n",
    "            if x < 0 or y < 0 or x >= 100 or y >= 100:\r\n",
    "                continue\r\n",
    "            X = np.array([x, y])\r\n",
    "            g = scale * math.pow(math.e, -np.dot(X - mu, X - mu)/pow(s_2, 2))\r\n",
    "            g = g if g <= 20.0 else 20.0\r\n",
    "            map_info[x,y] = g\r\n",
    "    "
   ],
   "outputs": [],
   "metadata": {}
  },
  {
   "cell_type": "code",
   "execution_count": null,
   "source": [
    "# test\r\n",
    "a = np.array([1,2])\r\n",
    "b = np.array([3,4])\r\n",
    "c = np.dot(a,b)\r\n",
    "\r\n",
    "print(c, a[0])\r\n",
    "print(math.pow(2,4))\r\n",
    "print(np.array([[2,3],[4,1]]))"
   ],
   "outputs": [],
   "metadata": {}
  },
  {
   "cell_type": "code",
   "execution_count": null,
   "source": [
    "x = np.random.randint(1, 100, 10)\r\n",
    "y = np.random.randint(1, 100, 10)\r\n",
    "print(x)\r\n",
    "print(y)"
   ],
   "outputs": [],
   "metadata": {}
  },
  {
   "cell_type": "code",
   "execution_count": null,
   "source": [
    "for mu in zip(x, y):\r\n",
    "    radius_x = np.random.randint(10, 30) # 구릉의 반경 x방향\r\n",
    "    radius_y = np.random.randint(10, 30) # 구릉의 반경 y방향\r\n",
    "    s_2 = np.random.rand() + np.random.randint(8, 13) # variance. 크기가 클수록 넓은 범위가 됨\r\n",
    "    print(s_2)\r\n",
    "    g = gaussian(30, np.array(mu), radius_x, radius_y, s_2) # 20 : 최대 높이"
   ],
   "outputs": [],
   "metadata": {}
  },
  {
   "cell_type": "markdown",
   "source": [
    "### for saving and loading\n",
    "현재 12개까지 만듦 - 23, Sep., 21"
   ],
   "metadata": {}
  },
  {
   "cell_type": "code",
   "execution_count": null,
   "source": [
    "import pickle\r\n",
    "\r\n",
    "with open('pkl/map_info_2.pkl', 'wb') as f:\r\n",
    "    pickle.dump(map_info, f)"
   ],
   "outputs": [],
   "metadata": {}
  },
  {
   "cell_type": "code",
   "execution_count": null,
   "source": [
    "import pickle\r\n",
    "with open('pkl/map_info_2.pkl', 'rb') as f:\r\n",
    "    map_info = pickle.load(f)"
   ],
   "outputs": [],
   "metadata": {}
  },
  {
   "cell_type": "code",
   "execution_count": null,
   "source": [
    "import os\r\n",
    "\r\n",
    "n = os.listdir('pkl\\\\')\r\n",
    "print(n)"
   ],
   "outputs": [],
   "metadata": {}
  },
  {
   "cell_type": "code",
   "execution_count": null,
   "source": [],
   "outputs": [],
   "metadata": {}
  },
  {
   "cell_type": "code",
   "execution_count": null,
   "source": [
    "print(map_info)"
   ],
   "outputs": [],
   "metadata": {}
  },
  {
   "cell_type": "code",
   "execution_count": null,
   "source": [
    "x = np.random.randint(1, 100, 10)\r\n",
    "y = np.random.randint(1, 100, 10)\r\n",
    "\r\n",
    "for mu in zip(x, y):\r\n",
    "    radius_x = np.random.randint(10, 30) # 구릉의 반경 x방향\r\n",
    "    radius_y = np.random.randint(10, 30) # 구릉의 반경 y방향\r\n",
    "    s_2 = np.random.rand() + np.random.randint(8, 13) # variance. 크기가 클수록 넓은 범위가 됨\r\n",
    "    print(s_2)\r\n",
    "    g = gaussian(30, np.array(mu), radius_x, radius_y, s_2) # 20 : 최대 높이"
   ],
   "outputs": [],
   "metadata": {}
  },
  {
   "cell_type": "code",
   "execution_count": null,
   "source": [
    "from mpl_toolkits.mplot3d import axes3d\r\n",
    "import numpy as np\r\n",
    "import matplotlib.pyplot as plt\r\n",
    "\r\n",
    "\r\n",
    "fig = plt.figure()\r\n",
    "ax = fig.add_subplot(111, projection='3d')\r\n",
    "\r\n",
    "X = np.array([i for i in range(100)])\r\n",
    "X = np.tile(X, (100,1))\r\n",
    "Y = np.transpose(X)\r\n",
    "\r\n",
    "ax.plot_surface(X, Y, map_info)\r\n",
    "ax.set_zlim(-10, 50)\r\n",
    "\r\n",
    "plt.tight_layout()\r\n",
    "plt.show()"
   ],
   "outputs": [],
   "metadata": {}
  },
  {
   "cell_type": "markdown",
   "source": [
    "# 3D Path Finder on gravitial world"
   ],
   "metadata": {}
  },
  {
   "cell_type": "markdown",
   "source": [
    "## modularization"
   ],
   "metadata": {}
  },
  {
   "cell_type": "code",
   "execution_count": 1,
   "source": [
    "import sys\r\n",
    "import pathlib\r\n",
    "\r\n",
    "path = str(pathlib.Path().absolute())\r\n",
    "path += '\\py'\r\n",
    "\r\n",
    "if path not in sys.path:\r\n",
    "    sys.path.insert(0,path)\r\n",
    "    print('path insert succeeded.')"
   ],
   "outputs": [
    {
     "output_type": "stream",
     "name": "stdout",
     "text": [
      "path insert succeeded.\n"
     ]
    }
   ],
   "metadata": {}
  },
  {
   "cell_type": "code",
   "execution_count": 2,
   "source": [
    "from map_designer import *\r\n",
    "from map_designer import MapDesigner as MD"
   ],
   "outputs": [],
   "metadata": {}
  },
  {
   "cell_type": "code",
   "execution_count": 3,
   "source": [
    "md = MD('pkl/maps/')"
   ],
   "outputs": [],
   "metadata": {}
  },
  {
   "cell_type": "code",
   "execution_count": 4,
   "source": [
    "md.plot(n=2)"
   ],
   "outputs": [
    {
     "output_type": "stream",
     "name": "stdout",
     "text": [
      "1/2\n"
     ]
    },
    {
     "output_type": "display_data",
     "data": {
      "image/png": "[encoded data removed]",
      "text/plain": [
       "<Figure size 432x288 with 1 Axes>"
      ]
     },
     "metadata": {
      "needs_background": "light"
     }
    },
    {
     "output_type": "stream",
     "name": "stdout",
     "text": [
      "2/2\n"
     ]
    },
    {
     "output_type": "display_data",
     "data": {
      "image/png": "[encoded data removed]",
      "text/plain": [
       "<Figure size 432x288 with 1 Axes>"
      ]
     },
     "metadata": {
      "needs_background": "light"
     }
    }
   ],
   "metadata": {}
  },
  {
   "cell_type": "markdown",
   "source": [
    "### (optional) more generate maps"
   ],
   "metadata": {}
  },
  {
   "cell_type": "code",
   "execution_count": null,
   "source": [
    "for _ in range(10):\r\n",
    "    md.gen_gaussian_map_info()"
   ],
   "outputs": [],
   "metadata": {}
  },
  {
   "cell_type": "code",
   "execution_count": null,
   "source": [
    "md.plot(n=len(md.map_list))"
   ],
   "outputs": [],
   "metadata": {}
  },
  {
   "cell_type": "code",
   "execution_count": null,
   "source": [
    "md.save()"
   ],
   "outputs": [],
   "metadata": {}
  },
  {
   "cell_type": "code",
   "execution_count": 4,
   "source": [
    "import json\r\n",
    "\r\n",
    "with open('json/state_ids.json', 'r') as f:\r\n",
    "    state_ids = json.load(f)\r\n",
    "\r\n",
    "with open('json/action_ids.json', 'r') as f:\r\n",
    "    action_ids = json.load(f)\r\n",
    "    \r\n",
    "print(state_ids)\r\n",
    "print(len(state_ids['field']))\r\n",
    "\r\n",
    "num_states = 0\r\n",
    "for state in state_ids.keys():\r\n",
    "    if type(state_ids[state]) != int:\r\n",
    "        num_states += len(state_ids[state])\r\n",
    "    else:\r\n",
    "        num_states += state_ids[state]\r\n",
    "num_actions = len(action_ids)\r\n",
    "\r\n",
    "print(num_states, num_actions)\r\n",
    "print(action_ids)"
   ],
   "outputs": [
    {
     "output_type": "stream",
     "name": "stdout",
     "text": [
      "{'field': {'0-19': 0, '20-39': 1, '40-59': 2, '60-79': 3, '80-100': 4}, 'wall': {'0-19': 5, '20-39': 6, '40-59': 7, '60-79': 8, '80-100': 9}, 'parachute': {'0-19': 10, '20-39': 11, '40-59': 12, '60-79': 13, '80-100': 14}, 'air': {'0-19': 15, '20-39': 16, '40-59': 17, '60-79': 18, '80-100': 19}, 'death': 20, 'goal': 21}\n",
      "5\n",
      "61 33\n",
      "{'Wait': 0, 'W': 1, 'A': 2, 'S': 3, 'D': 4, 'WA': 5, 'WD': 6, 'SD': 7, 'SA': 8, 'Ws': 9, 'As': 10, 'Ss': 11, 'Ds': 12, 'WAs': 13, 'WDs': 14, 'SDs': 15, 'SAs': 16, 'Wj': 17, 'Aj': 18, 'Sj': 19, 'Dj': 20, 'WAj': 21, 'WDj': 22, 'SDj': 23, 'SAj': 24, 'Wsj': 25, 'Asj': 26, 'Ssj': 27, 'Dsj': 28, 'WAsj': 29, 'WDsj': 30, 'SDsj': 31, 'SAsj': 32}\n"
     ]
    }
   ],
   "metadata": {}
  },
  {
   "cell_type": "code",
   "execution_count": 5,
   "source": [
    "from environment import *"
   ],
   "outputs": [],
   "metadata": {}
  },
  {
   "cell_type": "raw",
   "source": [
    "Agent(start_x=0.0, start_y=0.0, start_z=0.0, HP=100, stamina=100)"
   ],
   "metadata": {}
  },
  {
   "cell_type": "code",
   "execution_count": 17,
   "source": [
    "my_agent = Agent(stamina=200)"
   ],
   "outputs": [],
   "metadata": {}
  },
  {
   "cell_type": "code",
   "execution_count": 18,
   "source": [
    "init_agent_dir = np.array([np.random.uniform(-1, 1), 0., np.random.uniform(-1, 1)])\r\n",
    "init_agent_dir = norm(init_agent_dir)\r\n",
    "print(init_agent_dir)\r\n",
    "my_agent.dir = init_agent_dir"
   ],
   "outputs": [
    {
     "output_type": "stream",
     "name": "stdout",
     "text": [
      "[-0.59970403  0.          0.80022189]\n"
     ]
    }
   ],
   "metadata": {}
  },
  {
   "cell_type": "code",
   "execution_count": 19,
   "source": [
    "with open('pkl/data/my_agent.pkl', 'wb') as f:\r\n",
    "    pickle.dump(my_agent, f)"
   ],
   "outputs": [],
   "metadata": {}
  },
  {
   "cell_type": "code",
   "execution_count": 20,
   "source": [
    "with open('pkl/data/my_agent.pkl', 'rb') as f:\r\n",
    "    my_agent = pickle.load(f)"
   ],
   "outputs": [],
   "metadata": {}
  },
  {
   "cell_type": "raw",
   "source": [
    "# agent : agent object\r\n",
    "# map_info : 2d array to represent current map's heights\r\n",
    "# goal_position : position object\r\n",
    "# num_states : number of states\r\n",
    "# num_actions : number of actions\r\n",
    "# consume_stamina_info : stamina consume amount / fps with respect to action id(integer)\r\n",
    "# fall_damage : damage that reduces agents' HP when he fall.\r\n",
    "# fall_min_height : the height that can make damage\r\n",
    "# MAX_timestep : cutting size\r\n",
    "# MAX_stamina : maximum stamina value that agent can have\r\n",
    "# waiting_time : time until gain next action, unit_time=sec\r\n",
    "# parachute_height : minimum height that agent can unfold his parachute.\r\n",
    "\r\n",
    "__init__(agent, map_info, goal_position,\r\n",
    "        num_states, num_actions, \r\n",
    "        state_ids, action_ids, \r\n",
    "        consume_stamina_info, \r\n",
    "        fall_damage,\r\n",
    "        fall_min_height,\r\n",
    "        MAX_timestep=500,\r\n",
    "        MAX_stamina=200, \r\n",
    "        unit_time=1.3, \r\n",
    "        parachute_height=3,\r\n",
    "        gravitial_acc=9.8,\r\n",
    "        gliding_down=10.0)"
   ],
   "metadata": {}
  },
  {
   "cell_type": "code",
   "execution_count": 21,
   "source": [
    "goal_pos = np.array([50, md.map_list[0][50, 50], 50])\r\n",
    "print(goal_pos)"
   ],
   "outputs": [
    {
     "output_type": "stream",
     "name": "stdout",
     "text": [
      "[50.          0.09353686 50.        ]\n"
     ]
    }
   ],
   "metadata": {}
  },
  {
   "cell_type": "code",
   "execution_count": 22,
   "source": [
    "my_env = Environment(agent=my_agent, map_info=md.map_list[0], goal_position=goal_pos,\r\n",
    "            num_states=num_states, num_actions=num_actions,\r\n",
    "            state_ids=state_ids, action_ids=action_ids,\r\n",
    "            consume_stamina_info=None,\r\n",
    "            fall_damage=10,\r\n",
    "            fall_min_height=6)"
   ],
   "outputs": [],
   "metadata": {}
  },
  {
   "cell_type": "code",
   "execution_count": 23,
   "source": [
    "with open('pkl/data/my_env.pkl', 'wb') as f:\r\n",
    "    pickle.dump(my_env, f)"
   ],
   "outputs": [],
   "metadata": {}
  },
  {
   "cell_type": "code",
   "execution_count": 24,
   "source": [
    "with open('pkl/data/my_env.pkl', 'rb') as f:\r\n",
    "    my_env = pickle.load(f)"
   ],
   "outputs": [],
   "metadata": {}
  },
  {
   "cell_type": "code",
   "execution_count": 25,
   "source": [
    "dataset = my_env.make_scenarios()"
   ],
   "outputs": [],
   "metadata": {}
  },
  {
   "cell_type": "code",
   "execution_count": 26,
   "source": [
    "for s in dataset:\r\n",
    "    for i in range(len(s)):\r\n",
    "        print(s[i][0])"
   ],
   "outputs": [
    {
     "output_type": "stream",
     "name": "stdout",
     "text": [
      "-0.0\n",
      "28.00934260381633\n",
      "-28.284832911436013\n",
      "0.6109056474575993\n",
      "0.05992503221823142\n",
      "0.05992503221823142\n",
      "0.05992503221823142\n",
      "0.05992503221823142\n",
      "0.05992503221823142\n",
      "0.05992503221823142\n",
      "0.05992503221823142\n",
      "0.05992503221823142\n",
      "0.05992503221823142\n"
     ]
    }
   ],
   "metadata": {}
  },
  {
   "cell_type": "code",
   "execution_count": 27,
   "source": [
    "for s in dataset:\r\n",
    "    print(s)"
   ],
   "outputs": [
    {
     "output_type": "stream",
     "name": "stdout",
     "text": [
      "[(-0.0, <state.State object at 0x000001AF23EB0880>, <action.Action object at 0x000001AF2611BCA0>), (28.00934260381633, <state.State object at 0x000001AF27455640>, <action.Action object at 0x000001AF2611BCA0>), (-28.284832911436013, <state.State object at 0x000001AF27455130>, <action.Action object at 0x000001AF2611BCA0>), (0.6109056474575993, <state.State object at 0x000001AF274558E0>, <action.Action object at 0x000001AF2611BCA0>)]\n",
      "[(0.05992503221823142, <state.State object at 0x000001AF23EB0880>, <action.Action object at 0x000001AF2611BCA0>)]\n",
      "[(0.05992503221823142, <state.State object at 0x000001AF23EB0880>, <action.Action object at 0x000001AF2611BCA0>)]\n",
      "[(0.05992503221823142, <state.State object at 0x000001AF23EB0880>, <action.Action object at 0x000001AF2611BCA0>)]\n",
      "[(0.05992503221823142, <state.State object at 0x000001AF23EB0880>, <action.Action object at 0x000001AF2611BCA0>)]\n",
      "[(0.05992503221823142, <state.State object at 0x000001AF23EB0880>, <action.Action object at 0x000001AF2611BCA0>)]\n",
      "[(0.05992503221823142, <state.State object at 0x000001AF23EB0880>, <action.Action object at 0x000001AF2611BCA0>)]\n",
      "[(0.05992503221823142, <state.State object at 0x000001AF23EB0880>, <action.Action object at 0x000001AF2611BCA0>)]\n",
      "[(0.05992503221823142, <state.State object at 0x000001AF23EB0880>, <action.Action object at 0x000001AF2611BCA0>)]\n",
      "[(0.05992503221823142, <state.State object at 0x000001AF23EB0880>, <action.Action object at 0x000001AF2611BCA0>)]\n"
     ]
    }
   ],
   "metadata": {}
  },
  {
   "cell_type": "code",
   "execution_count": 29,
   "source": [
    "print(my_env.agent.get_current_position())\r\n",
    "print(my_env.goal_position)"
   ],
   "outputs": [
    {
     "output_type": "stream",
     "name": "stdout",
     "text": [
      "[0. 0. 0.]\n",
      "[50.          0.09353686 50.        ]\n"
     ]
    }
   ],
   "metadata": {}
  },
  {
   "cell_type": "code",
   "execution_count": null,
   "source": [],
   "outputs": [],
   "metadata": {}
  },
  {
   "cell_type": "raw",
   "source": [
    "state_ids = {\r\n",
    "    'field': {\r\n",
    "        '0-19': 0, '20-39': 1, '40-59': 2, '60-79': 3, '80-100': 4}, \r\n",
    "    'wall': {'0-19': 5, '20-39': 6, '40-59': 7, '60-79': 8, '80-100': 9}, \r\n",
    "    'parachute': {'0-19': 10, '20-39': 11, '40-59': 12, '60-79': 13, '80-100': 14}, \r\n",
    "    'air': {'0-19': 15, '20-39': 16, '40-59': 17, '60-79': 18, '80-100': 19}, \r\n",
    "    'death': 20, \r\n",
    "    'goal': 21}\r\n",
    "\r\n",
    "with open('json/state_ids.json', 'w', encoding='utf-8') as f:\r\n",
    "    json.dump(state_ids, f, indent=4)"
   ],
   "metadata": {}
  },
  {
   "cell_type": "raw",
   "source": [
    "# R, s, a, t: returns-to-go, states, actions, and timesteps\r\n",
    "# transformer: transformer with causal masking (GPT)\r\n",
    "# embed_s, embed_a, embed_R: linear embedding layers\r\n",
    "# pred_a: linear action prediction layer\r\n",
    "\r\n",
    "# main model\r\n",
    "def DecisionTransformer(R, s, a, t):\r\n",
    "    # compute embeddings for tokens\r\n",
    "    pos_embedding = embed_t(t)    # per-timestep (note: not per-token)"
   ],
   "metadata": {}
  },
  {
   "cell_type": "code",
   "execution_count": null,
   "source": [
    "a = np.array([[1,2], [3, 5]])"
   ],
   "outputs": [],
   "metadata": {}
  },
  {
   "cell_type": "code",
   "execution_count": null,
   "source": [
    "print(a[0, 1], a[0][1])"
   ],
   "outputs": [],
   "metadata": {}
  },
  {
   "cell_type": "code",
   "execution_count": null,
   "source": [],
   "outputs": [],
   "metadata": {}
  }
 ],
 "metadata": {
  "kernelspec": {
   "name": "python3",
   "display_name": "Python 3.8.5 64-bit ('decision-transformer-gym': conda)"
  },
  "language_info": {
   "codemirror_mode": {
    "name": "ipython",
    "version": 3
   },
   "file_extension": ".py",
   "mimetype": "text/x-python",
   "name": "python",
   "nbconvert_exporter": "python",
   "pygments_lexer": "ipython3",
   "version": "3.8.5"
  },
  "interpreter": {
   "hash": "9655d6e5adc0674e1f6bef5f40c71152f43d7e137dab7eed4d24080923ad70b0"
  }
 },
 "nbformat": 4,
 "nbformat_minor": 5
}