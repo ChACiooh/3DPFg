{
 "cells": [
  {
   "cell_type": "code",
   "execution_count": 2,
   "id": "37cf6988",
   "metadata": {},
   "outputs": [
    {
     "name": "stdout",
     "output_type": "stream",
     "text": [
      "Collecting numpy\n",
      "  Using cached numpy-1.21.2-cp38-cp38-win_amd64.whl (14.0 MB)\n",
      "Installing collected packages: numpy\n",
      "Successfully installed numpy-1.21.2\n"
     ]
    }
   ],
   "source": [
    "!pip install numpy"
   ]
  },
  {
   "cell_type": "code",
   "execution_count": 3,
   "id": "dc9bd197",
   "metadata": {},
   "outputs": [
    {
     "name": "stdout",
     "output_type": "stream",
     "text": [
      "Collecting transformers\n",
      "  Using cached transformers-4.10.0-py3-none-any.whl (2.8 MB)\n",
      "Collecting regex!=2019.12.17\n",
      "  Downloading regex-2021.8.28-cp38-cp38-win_amd64.whl (271 kB)\n",
      "Requirement already satisfied: packaging in d:\\anaconda3\\envs\\jolp\\lib\\site-packages (from transformers) (21.0)\n",
      "Collecting huggingface-hub>=0.0.12\n",
      "  Using cached huggingface_hub-0.0.16-py3-none-any.whl (50 kB)\n",
      "Collecting requests\n",
      "  Using cached requests-2.26.0-py2.py3-none-any.whl (62 kB)\n",
      "Collecting tokenizers<0.11,>=0.10.1\n",
      "  Using cached tokenizers-0.10.3-cp38-cp38-win_amd64.whl (2.0 MB)\n",
      "Collecting filelock\n",
      "  Using cached filelock-3.0.12-py3-none-any.whl (7.6 kB)\n",
      "Collecting pyyaml>=5.1\n",
      "  Downloading PyYAML-5.4.1-cp38-cp38-win_amd64.whl (213 kB)\n",
      "Requirement already satisfied: numpy>=1.17 in d:\\anaconda3\\envs\\jolp\\lib\\site-packages (from transformers) (1.21.2)\n",
      "Collecting tqdm>=4.27\n",
      "  Using cached tqdm-4.62.2-py2.py3-none-any.whl (76 kB)\n",
      "Collecting sacremoses\n",
      "  Using cached sacremoses-0.0.45-py3-none-any.whl (895 kB)\n",
      "Collecting typing-extensions\n",
      "  Downloading typing_extensions-3.10.0.2-py3-none-any.whl (26 kB)\n",
      "Requirement already satisfied: pyparsing>=2.0.2 in d:\\anaconda3\\envs\\jolp\\lib\\site-packages (from packaging->transformers) (2.4.7)\n",
      "Requirement already satisfied: colorama in d:\\anaconda3\\envs\\jolp\\lib\\site-packages (from tqdm>=4.27->transformers) (0.4.4)\n",
      "Requirement already satisfied: certifi>=2017.4.17 in d:\\anaconda3\\envs\\jolp\\lib\\site-packages (from requests->transformers) (2021.5.30)\n",
      "Collecting idna<4,>=2.5\n",
      "  Using cached idna-3.2-py3-none-any.whl (59 kB)\n",
      "Collecting charset-normalizer~=2.0.0\n",
      "  Using cached charset_normalizer-2.0.4-py3-none-any.whl (36 kB)\n",
      "Collecting urllib3<1.27,>=1.21.1\n",
      "  Using cached urllib3-1.26.6-py2.py3-none-any.whl (138 kB)\n",
      "Requirement already satisfied: six in d:\\anaconda3\\envs\\jolp\\lib\\site-packages (from sacremoses->transformers) (1.16.0)\n",
      "Collecting click\n",
      "  Using cached click-8.0.1-py3-none-any.whl (97 kB)\n",
      "Collecting joblib\n",
      "  Using cached joblib-1.0.1-py3-none-any.whl (303 kB)\n",
      "Installing collected packages: urllib3, idna, charset-normalizer, typing-extensions, tqdm, requests, regex, joblib, filelock, click, tokenizers, sacremoses, pyyaml, huggingface-hub, transformers\n",
      "Successfully installed charset-normalizer-2.0.4 click-8.0.1 filelock-3.0.12 huggingface-hub-0.0.16 idna-3.2 joblib-1.0.1 pyyaml-5.4.1 regex-2021.8.28 requests-2.26.0 sacremoses-0.0.45 tokenizers-0.10.3 tqdm-4.62.2 transformers-4.10.0 typing-extensions-3.10.0.2 urllib3-1.26.6\n"
     ]
    }
   ],
   "source": [
    "!pip install transformers"
   ]
  },
  {
   "cell_type": "code",
   "execution_count": 5,
   "id": "6e925957",
   "metadata": {},
   "outputs": [
    {
     "name": "stdout",
     "output_type": "stream",
     "text": [
      "Collecting torch\n",
      "  Using cached torch-1.9.0-cp38-cp38-win_amd64.whl (222.0 MB)\n",
      "Requirement already satisfied: typing-extensions in d:\\anaconda3\\envs\\jolp\\lib\\site-packages (from torch) (3.10.0.2)\n",
      "Installing collected packages: torch\n",
      "Successfully installed torch-1.9.0\n"
     ]
    }
   ],
   "source": [
    "!pip install torch"
   ]
  },
  {
   "cell_type": "code",
   "execution_count": 4,
   "id": "c3c9d698",
   "metadata": {},
   "outputs": [
    {
     "ename": "ModuleNotFoundError",
     "evalue": "No module named 'torch'",
     "output_type": "error",
     "traceback": [
      "\u001b[1;31m---------------------------------------------------------------------------\u001b[0m",
      "\u001b[1;31mModuleNotFoundError\u001b[0m                       Traceback (most recent call last)",
      "\u001b[1;32m~\\AppData\\Local\\Temp/ipykernel_41296/4034543795.py\u001b[0m in \u001b[0;36m<module>\u001b[1;34m\u001b[0m\n\u001b[0;32m      1\u001b[0m \u001b[1;32mimport\u001b[0m \u001b[0mnumpy\u001b[0m \u001b[1;32mas\u001b[0m \u001b[0mnp\u001b[0m\u001b[1;33m\u001b[0m\u001b[1;33m\u001b[0m\u001b[0m\n\u001b[1;32m----> 2\u001b[1;33m \u001b[1;32mimport\u001b[0m \u001b[0mtorch\u001b[0m\u001b[1;33m\u001b[0m\u001b[1;33m\u001b[0m\u001b[0m\n\u001b[0m\u001b[0;32m      3\u001b[0m \u001b[1;32mimport\u001b[0m \u001b[0mtorch\u001b[0m\u001b[1;33m.\u001b[0m\u001b[0mnn\u001b[0m \u001b[1;32mas\u001b[0m \u001b[0mnn\u001b[0m\u001b[1;33m\u001b[0m\u001b[1;33m\u001b[0m\u001b[0m\n\u001b[0;32m      4\u001b[0m \u001b[1;33m\u001b[0m\u001b[0m\n\u001b[0;32m      5\u001b[0m \u001b[1;32mimport\u001b[0m \u001b[0mtransformers\u001b[0m\u001b[1;33m\u001b[0m\u001b[1;33m\u001b[0m\u001b[0m\n",
      "\u001b[1;31mModuleNotFoundError\u001b[0m: No module named 'torch'"
     ]
    }
   ],
   "source": [
    "import numpy as np\n",
    "import torch\n",
    "import torch.nn as nn\n",
    "\n",
    "import transformers"
   ]
  },
  {
   "cell_type": "code",
   "execution_count": 4,
   "id": "a5df259e",
   "metadata": {},
   "outputs": [],
   "source": [
    "state, action, return_to_go = [], [], []"
   ]
  },
  {
   "cell_type": "code",
   "execution_count": 5,
   "id": "6c92be55",
   "metadata": {},
   "outputs": [],
   "source": [
    "time_step = []"
   ]
  },
  {
   "cell_type": "code",
   "execution_count": 6,
   "id": "f3f96406",
   "metadata": {},
   "outputs": [],
   "source": [
    "num_actions = 34\n",
    "num_states = 8 * 5 + 2"
   ]
  },
  {
   "cell_type": "markdown",
   "id": "9332ddb6",
   "metadata": {},
   "source": [
    "## 노가다 작업은 json으로 미리 저장하기"
   ]
  },
  {
   "cell_type": "code",
   "execution_count": 7,
   "id": "ad1083c6",
   "metadata": {},
   "outputs": [],
   "source": [
    "import json"
   ]
  },
  {
   "cell_type": "code",
   "execution_count": 14,
   "id": "cfae6beb",
   "metadata": {},
   "outputs": [],
   "source": [
    "action_input_list = ['Wait', 'W', 'A', 'S', 'D',\n",
    "                     'WA', 'WD', 'SD', 'SA',\n",
    "                     'Ws', 'As', 'Ss', 'Ds',\n",
    "                     'WAs', 'WDs', 'SDs', 'SAs',\n",
    "                     'Wj', 'Aj', 'Sj', 'Dj',\n",
    "                     'WAj', 'WDj', 'SDj', 'SAj',\n",
    "                     'Wsj', 'Asj', 'Ssj', 'Dsj',\n",
    "                     'WAsj', 'WDsj', 'SDsj', 'SAsj']\n",
    "num_action_input = len(action_input_list)"
   ]
  },
  {
   "cell_type": "code",
   "execution_count": 15,
   "id": "c13f464e",
   "metadata": {},
   "outputs": [],
   "source": [
    "action_ids = {}\n",
    "for id in range(num_action_input):\n",
    "    action_ids[action_input_list[id]] = id"
   ]
  },
  {
   "cell_type": "code",
   "execution_count": 16,
   "id": "df8480fe",
   "metadata": {},
   "outputs": [
    {
     "name": "stdout",
     "output_type": "stream",
     "text": [
      "{'Wait': 0, 'W': 1, 'A': 2, 'S': 3, 'D': 4, 'WA': 5, 'WD': 6, 'SD': 7, 'SA': 8, 'Ws': 9, 'As': 10, 'Ss': 11, 'Ds': 12, 'WAs': 13, 'WDs': 14, 'SDs': 15, 'SAs': 16, 'Wj': 17, 'Aj': 18, 'Sj': 19, 'Dj': 20, 'WAj': 21, 'WDj': 22, 'SDj': 23, 'SAj': 24, 'Wsj': 25, 'Asj': 26, 'Ssj': 27, 'Dsj': 28, 'WAsj': 29, 'WDsj': 30, 'SDsj': 31, 'SAsj': 32}\n"
     ]
    }
   ],
   "source": [
    "print(action_ids)"
   ]
  },
  {
   "cell_type": "code",
   "execution_count": 23,
   "id": "1dd1b6e9",
   "metadata": {},
   "outputs": [],
   "source": [
    "with open('json/action_ids.json', 'w', encoding='utf-8') as f:\n",
    "    json.dump(action_ids, f, ensure_ascii=False, indent='\\t')"
   ]
  },
  {
   "cell_type": "code",
   "execution_count": 31,
   "id": "82e6a7ed",
   "metadata": {},
   "outputs": [],
   "source": [
    "state_position_list = ['field', 'wall', 'lowair', 'highair']\n",
    "state_stamina_list = ['0-19', '20-39', '40-59', '60-79', '80-100']\n",
    "state_special_list = ['death', 'goal']\n",
    "\n",
    "num_state_position_list = len(state_position_list)\n",
    "num_state_stamina_list = len(state_stamina_list)\n",
    "num_state_special_list = len(state_special_list)\n",
    "\n",
    "num_state_ids = num_state_position_list * num_state_stamina_list + num_state_special_list"
   ]
  },
  {
   "cell_type": "code",
   "execution_count": 32,
   "id": "d61c4416",
   "metadata": {},
   "outputs": [],
   "source": [
    "state_ids = {}\n",
    "state_id_value = 0\n",
    "for position in state_position_list:\n",
    "    sub_state = {}\n",
    "    for stamina in state_stamina_list:\n",
    "        sub_state[stamina] = state_id_value\n",
    "        state_id_value += 1\n",
    "    state_ids[position] = sub_state\n",
    "    \n",
    "for special in state_special_list:\n",
    "    state_ids[special] = state_id_value\n",
    "    state_id_value += 1"
   ]
  },
  {
   "cell_type": "code",
   "execution_count": 33,
   "id": "c33ae898",
   "metadata": {},
   "outputs": [
    {
     "name": "stdout",
     "output_type": "stream",
     "text": [
      "{'field': {'0-19': 0, '20-39': 1, '40-59': 2, '60-79': 3, '80-100': 4}, 'wall': {'0-19': 5, '20-39': 6, '40-59': 7, '60-79': 8, '80-100': 9}, 'lowair': {'0-19': 10, '20-39': 11, '40-59': 12, '60-79': 13, '80-100': 14}, 'highair': {'0-19': 15, '20-39': 16, '40-59': 17, '60-79': 18, '80-100': 19}, 'death': 20, 'goal': 21}\n"
     ]
    }
   ],
   "source": [
    "print(state_ids)"
   ]
  },
  {
   "cell_type": "code",
   "execution_count": 34,
   "id": "b34c2558",
   "metadata": {},
   "outputs": [],
   "source": [
    "with open('json/state_ids.json', 'w', encoding='utf-8') as f:\n",
    "    json.dump(state_ids, f, ensure_ascii=False, indent='\\t')"
   ]
  },
  {
   "cell_type": "code",
   "execution_count": null,
   "id": "7fe7430c",
   "metadata": {},
   "outputs": [],
   "source": []
  },
  {
   "cell_type": "markdown",
   "id": "b61716ff",
   "metadata": {},
   "source": [
    "## 불러와서 시작"
   ]
  },
  {
   "cell_type": "code",
   "execution_count": 1,
   "id": "8a5b6a23",
   "metadata": {},
   "outputs": [],
   "source": [
    "import json"
   ]
  },
  {
   "cell_type": "code",
   "execution_count": 2,
   "id": "558e8fef",
   "metadata": {},
   "outputs": [],
   "source": [
    "with open('json/state_ids.json', 'r') as f:\n",
    "    state_ids = json.load(f)"
   ]
  },
  {
   "cell_type": "code",
   "execution_count": 3,
   "id": "afb1bf85",
   "metadata": {},
   "outputs": [
    {
     "data": {
      "text/plain": [
       "{'field': {'0-19': 0, '20-39': 1, '40-59': 2, '60-79': 3, '80-100': 4},\n",
       " 'wall': {'0-19': 5, '20-39': 6, '40-59': 7, '60-79': 8, '80-100': 9},\n",
       " 'lowair': {'0-19': 10, '20-39': 11, '40-59': 12, '60-79': 13, '80-100': 14},\n",
       " 'highair': {'0-19': 15, '20-39': 16, '40-59': 17, '60-79': 18, '80-100': 19},\n",
       " 'death': 20,\n",
       " 'goal': 21}"
      ]
     },
     "execution_count": 3,
     "metadata": {},
     "output_type": "execute_result"
    }
   ],
   "source": [
    "state_ids"
   ]
  },
  {
   "cell_type": "code",
   "execution_count": 4,
   "id": "9e34ee00",
   "metadata": {},
   "outputs": [],
   "source": [
    "with open('json/action_ids.json', 'r') as f:\n",
    "    action_ids = json.load(f)"
   ]
  },
  {
   "cell_type": "code",
   "execution_count": 5,
   "id": "50938997",
   "metadata": {},
   "outputs": [
    {
     "data": {
      "text/plain": [
       "5"
      ]
     },
     "execution_count": 5,
     "metadata": {},
     "output_type": "execute_result"
    }
   ],
   "source": [
    "len(state_ids['field'])"
   ]
  },
  {
   "cell_type": "code",
   "execution_count": 6,
   "id": "2c378025",
   "metadata": {},
   "outputs": [
    {
     "name": "stdout",
     "output_type": "stream",
     "text": [
      "61 33\n"
     ]
    }
   ],
   "source": [
    "num_states = 0\n",
    "for state in state_ids.keys():\n",
    "    if type(state_ids[state]) != int:\n",
    "        num_states += len(state_ids[state])\n",
    "    else:\n",
    "        num_states += state_ids[state]\n",
    "num_actions = len(action_ids)\n",
    "\n",
    "print(num_states, num_actions)"
   ]
  },
  {
   "cell_type": "code",
   "execution_count": 7,
   "id": "af1d7204",
   "metadata": {},
   "outputs": [
    {
     "data": {
      "text/plain": [
       "{'Wait': 0,\n",
       " 'W': 1,\n",
       " 'A': 2,\n",
       " 'S': 3,\n",
       " 'D': 4,\n",
       " 'WA': 5,\n",
       " 'WD': 6,\n",
       " 'SD': 7,\n",
       " 'SA': 8,\n",
       " 'Ws': 9,\n",
       " 'As': 10,\n",
       " 'Ss': 11,\n",
       " 'Ds': 12,\n",
       " 'WAs': 13,\n",
       " 'WDs': 14,\n",
       " 'SDs': 15,\n",
       " 'SAs': 16,\n",
       " 'Wj': 17,\n",
       " 'Aj': 18,\n",
       " 'Sj': 19,\n",
       " 'Dj': 20,\n",
       " 'WAj': 21,\n",
       " 'WDj': 22,\n",
       " 'SDj': 23,\n",
       " 'SAj': 24,\n",
       " 'Wsj': 25,\n",
       " 'Asj': 26,\n",
       " 'Ssj': 27,\n",
       " 'Dsj': 28,\n",
       " 'WAsj': 29,\n",
       " 'WDsj': 30,\n",
       " 'SDsj': 31,\n",
       " 'SAsj': 32}"
      ]
     },
     "execution_count": 7,
     "metadata": {},
     "output_type": "execute_result"
    }
   ],
   "source": [
    "action_ids"
   ]
  },
  {
   "cell_type": "code",
   "execution_count": null,
   "id": "19e17456",
   "metadata": {},
   "outputs": [],
   "source": []
  },
  {
   "cell_type": "code",
   "execution_count": 8,
   "id": "b88ebcb2",
   "metadata": {},
   "outputs": [
    {
     "ename": "ModuleNotFoundError",
     "evalue": "No module named 'py.environment'",
     "output_type": "error",
     "traceback": [
      "\u001b[1;31m---------------------------------------------------------------------------\u001b[0m",
      "\u001b[1;31mModuleNotFoundError\u001b[0m                       Traceback (most recent call last)",
      "\u001b[1;32m~\\AppData\\Local\\Temp/ipykernel_12268/1875692999.py\u001b[0m in \u001b[0;36m<module>\u001b[1;34m\u001b[0m\n\u001b[1;32m----> 1\u001b[1;33m \u001b[1;32mfrom\u001b[0m \u001b[0mpy\u001b[0m\u001b[1;33m.\u001b[0m\u001b[0menvironment\u001b[0m \u001b[1;32mimport\u001b[0m \u001b[0mEnvironment\u001b[0m\u001b[1;33m\u001b[0m\u001b[1;33m\u001b[0m\u001b[0m\n\u001b[0m",
      "\u001b[1;31mModuleNotFoundError\u001b[0m: No module named 'py.environment'"
     ]
    }
   ],
   "source": [
    "from py.environment import Environment"
   ]
  },
  {
   "cell_type": "code",
   "execution_count": null,
   "id": "13e55764",
   "metadata": {},
   "outputs": [],
   "source": []
  }
 ],
 "metadata": {
  "kernelspec": {
   "display_name": "Python 3 (ipykernel)",
   "language": "python",
   "name": "python3"
  },
  "language_info": {
   "codemirror_mode": {
    "name": "ipython",
    "version": 3
   },
   "file_extension": ".py",
   "mimetype": "text/x-python",
   "name": "python",
   "nbconvert_exporter": "python",
   "pygments_lexer": "ipython3",
   "version": "3.8.5"
  }
 },
 "nbformat": 4,
 "nbformat_minor": 5
}
