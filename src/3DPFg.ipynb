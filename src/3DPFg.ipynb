{
 "cells": [
  {
   "cell_type": "markdown",
   "id": "ab63b494",
   "metadata": {},
   "source": [
    "# 3DPFg: 3D Path Finder with gravitial world\n",
    "author: Yeonggwon Pyo"
   ]
  },
  {
   "cell_type": "markdown",
   "id": "4d7bb6bd",
   "metadata": {},
   "source": [
    "## Prepare states and actions"
   ]
  },
  {
   "cell_type": "code",
   "execution_count": 4,
   "id": "a7951933",
   "metadata": {},
   "outputs": [],
   "source": [
    "action_input_list = ['Wait', 'W', 'A', 'S', 'D',\n",
    "                     'WA', 'WD', 'SD', 'SA',\n",
    "                     'Ws', 'As', 'Ss', 'Ds',\n",
    "                     'WAs', 'WDs', 'SDs', 'SAs',\n",
    "                     'Wj', 'Aj', 'Sj', 'Dj',\n",
    "                     'WAj', 'WDj', 'SDj', 'SAj',\n",
    "                     'Wsj', 'Asj', 'Ssj', 'Dsj',\n",
    "                     'WAsj', 'WDsj', 'SDsj', 'SAsj', 'j']\n",
    "num_action_input = len(action_input_list)\n",
    "\n",
    "action_ids = {}\n",
    "for id in range(num_action_input):\n",
    "    action_ids[action_input_list[id]] = id"
   ]
  },
  {
   "cell_type": "code",
   "execution_count": 5,
   "id": "684d59f2",
   "metadata": {},
   "outputs": [
    {
     "name": "stdout",
     "output_type": "stream",
     "text": [
      "{'Wait': 0, 'W': 1, 'A': 2, 'S': 3, 'D': 4, 'WA': 5, 'WD': 6, 'SD': 7, 'SA': 8, 'Ws': 9, 'As': 10, 'Ss': 11, 'Ds': 12, 'WAs': 13, 'WDs': 14, 'SDs': 15, 'SAs': 16, 'Wj': 17, 'Aj': 18, 'Sj': 19, 'Dj': 20, 'WAj': 21, 'WDj': 22, 'SDj': 23, 'SAj': 24, 'Wsj': 25, 'Asj': 26, 'Ssj': 27, 'Dsj': 28, 'WAsj': 29, 'WDsj': 30, 'SDsj': 31, 'SAsj': 32, 'j': 33}\n"
     ]
    }
   ],
   "source": [
    "print(action_ids)"
   ]
  },
  {
   "cell_type": "code",
   "execution_count": 6,
   "id": "1d5c309a",
   "metadata": {},
   "outputs": [],
   "source": [
    "import json\n",
    "\n",
    "with open('json/action_ids.json', 'w', encoding='utf-8') as f:\n",
    "    json.dump(action_ids, f, ensure_ascii=False, indent='\\t')"
   ]
  },
  {
   "cell_type": "code",
   "execution_count": 13,
   "id": "0adbe4d0",
   "metadata": {},
   "outputs": [],
   "source": [
    "state_position_list = ['field', 'wall', 'air', 'parachute']\n",
    "state_stamina_list = ['0-19', '20-39', '40-59', '60-79', '80-100']\n",
    "state_special_list = ['death', 'goal']\n",
    "\n",
    "num_state_position_list = len(state_position_list)\n",
    "num_state_stamina_list = len(state_stamina_list)\n",
    "num_state_special_list = len(state_special_list)\n",
    "\n",
    "num_state_ids = num_state_position_list * num_state_stamina_list + num_state_special_list\n",
    "\n",
    "state_ids = {}\n",
    "state_id_value = 0\n",
    "for position in state_position_list:\n",
    "    sub_state = {}\n",
    "    for stamina in state_stamina_list:\n",
    "        sub_state[stamina] = state_id_value\n",
    "        state_id_value += 1\n",
    "    state_ids[position] = sub_state\n",
    "    \n",
    "for special in state_special_list:\n",
    "    state_ids[special] = state_id_value\n",
    "    state_id_value += 1"
   ]
  },
  {
   "cell_type": "code",
   "execution_count": 14,
   "id": "a6ccfd36",
   "metadata": {},
   "outputs": [
    {
     "name": "stdout",
     "output_type": "stream",
     "text": [
      "{'field': {'0-19': 0, '20-39': 1, '40-59': 2, '60-79': 3, '80-100': 4}, 'wall': {'0-19': 5, '20-39': 6, '40-59': 7, '60-79': 8, '80-100': 9}, 'air': {'0-19': 10, '20-39': 11, '40-59': 12, '60-79': 13, '80-100': 14}, 'parachute': {'0-19': 15, '20-39': 16, '40-59': 17, '60-79': 18, '80-100': 19}, 'death': 20, 'goal': 21}\n"
     ]
    }
   ],
   "source": [
    "print(state_ids)"
   ]
  },
  {
   "cell_type": "code",
   "execution_count": 15,
   "id": "86067688",
   "metadata": {},
   "outputs": [],
   "source": [
    "with open('json/state_ids.json', 'w', encoding='utf-8') as f:\n",
    "    json.dump(state_ids, f, ensure_ascii=False, indent='\\t')"
   ]
  },
  {
   "cell_type": "code",
   "execution_count": null,
   "id": "a0f63498",
   "metadata": {},
   "outputs": [],
   "source": []
  },
  {
   "cell_type": "markdown",
   "id": "4fbe0e3b",
   "metadata": {},
   "source": [
    "## 불러와서 시작"
   ]
  },
  {
   "cell_type": "code",
   "execution_count": null,
   "id": "fbf96ee0",
   "metadata": {},
   "outputs": [],
   "source": [
    "import json\n",
    "\n",
    "with open('json/state_ids.json', 'r') as f:\n",
    "    state_ids = json.load(f)\n",
    "\n",
    "with open('json/action_ids.json', 'r') as f:\n",
    "    action_ids = json.load(f)\n",
    "    \n",
    "print(state_ids)\n",
    "print(len(state_ids['field']))\n",
    "\n",
    "num_states = 0\n",
    "for state in state_ids.keys():\n",
    "    if type(state_ids[state]) != int:\n",
    "        num_states += len(state_ids[state])\n",
    "    else:\n",
    "        num_states += state_ids[state]\n",
    "num_actions = len(action_ids)\n",
    "\n",
    "print(num_states, num_actions)\n",
    "print(action_ids)"
   ]
  },
  {
   "cell_type": "markdown",
   "id": "e090b831",
   "metadata": {},
   "source": [
    "## Test용 map 만들기\n",
    "Gaussian reference : https://codetorial.net/articles/normal_distribution.html"
   ]
  },
  {
   "cell_type": "code",
   "execution_count": null,
   "id": "b04422f9",
   "metadata": {},
   "outputs": [],
   "source": [
    "import math\n",
    "# a : tangent of gaussian distribution\n",
    "# mu : mean, np.array([x, y])\n",
    "# radius_x : radius of x position of mean point\n",
    "# radius_y : radius of y position of mean point\n",
    "# s_2 : variance\n",
    "map_info = np.zeros((100,100),dtype=np.float64)\n",
    "\n",
    "def gaussian(scale, mu, radius_x, radius_y, s_2):\n",
    "    global map_info\n",
    "    centre_x, centre_y = mu[0], mu[1]\n",
    "    for x in range(centre_x - radius_x, centre_x + radius_x):\n",
    "        for y in range(centre_y - radius_y, centre_y + radius_y):\n",
    "            if x < 0 or y < 0 or x >= 100 or y >= 100:\n",
    "                continue\n",
    "            X = np.array([x, y])\n",
    "            g = scale * math.pow(math.e, -np.dot(X - mu, X - mu)/pow(s_2, 2))\n",
    "            g = g if g <= 20.0 else 20.0\n",
    "            map_info[x,y] = g\n",
    "    "
   ]
  },
  {
   "cell_type": "markdown",
   "id": "b5527289",
   "metadata": {},
   "source": [
    "## For saving and loading"
   ]
  },
  {
   "cell_type": "code",
   "execution_count": 1,
   "id": "3a521a31",
   "metadata": {},
   "outputs": [
    {
     "name": "stdout",
     "output_type": "stream",
     "text": [
      "['data', 'maps']\n"
     ]
    }
   ],
   "source": [
    "import os\n",
    "\n",
    "n = os.listdir('pkl\\\\')\n",
    "print(n)"
   ]
  },
  {
   "cell_type": "code",
   "execution_count": null,
   "id": "9514f669",
   "metadata": {},
   "outputs": [],
   "source": [
    "import pickle\n",
    "\n",
    "with open('pkl/map_info_2.pkl', 'wb') as f:\n",
    "    pickle.dump(map_info, f)"
   ]
  },
  {
   "cell_type": "code",
   "execution_count": null,
   "id": "fc16e3bf",
   "metadata": {},
   "outputs": [],
   "source": [
    "import pickle\n",
    "with open('pkl/map_info_2.pkl', 'rb') as f:\n",
    "    map_info = pickle.load(f)"
   ]
  },
  {
   "cell_type": "code",
   "execution_count": null,
   "id": "fdd8c152",
   "metadata": {},
   "outputs": [],
   "source": [
    "print(map_info)"
   ]
  },
  {
   "cell_type": "code",
   "execution_count": null,
   "id": "3f88cb91",
   "metadata": {},
   "outputs": [],
   "source": [
    "x = np.random.randint(1, 100, 10)\n",
    "y = np.random.randint(1, 100, 10)\n",
    "\n",
    "for mu in zip(x, y):\n",
    "    radius_x = np.random.randint(10, 30) # 구릉의 반경 x방향\n",
    "    radius_y = np.random.randint(10, 30) # 구릉의 반경 y방향\n",
    "    s_2 = np.random.rand() + np.random.randint(8, 13) # variance. 크기가 클수록 넓은 범위가 됨\n",
    "    print(s_2)\n",
    "    g = gaussian(30, np.array(mu), radius_x, radius_y, s_2) # 20 : 최대 높이"
   ]
  },
  {
   "cell_type": "code",
   "execution_count": null,
   "id": "beb4c599",
   "metadata": {},
   "outputs": [],
   "source": [
    "from mpl_toolkits.mplot3d import axes3d\n",
    "import numpy as np\n",
    "import matplotlib.pyplot as plt\n",
    "\n",
    "\n",
    "fig = plt.figure()\n",
    "ax = fig.add_subplot(111, projection='3d')\n",
    "\n",
    "X = np.array([i for i in range(100)])\n",
    "X = np.tile(X, (100,1))\n",
    "Y = np.transpose(X)\n",
    "\n",
    "ax.plot_surface(X, Y, map_info)\n",
    "ax.set_zlim(-10, 50)\n",
    "\n",
    "plt.tight_layout()\n",
    "plt.show()"
   ]
  },
  {
   "cell_type": "markdown",
   "id": "897d9472",
   "metadata": {},
   "source": [
    "## modularization"
   ]
  },
  {
   "cell_type": "code",
   "execution_count": 1,
   "id": "206fce03",
   "metadata": {},
   "outputs": [
    {
     "name": "stdout",
     "output_type": "stream",
     "text": [
      "path insert succeeded.\n"
     ]
    }
   ],
   "source": [
    "import sys\n",
    "import pathlib\n",
    "\n",
    "user_lib_path = str(pathlib.Path().absolute())\n",
    "user_lib_path += '/py'\n",
    "\n",
    "if user_lib_path not in sys.path:\n",
    "    sys.path.insert(0, user_lib_path)\n",
    "    print('path insert succeeded.')"
   ]
  },
  {
   "cell_type": "code",
   "execution_count": 2,
   "id": "9da4ddea",
   "metadata": {},
   "outputs": [],
   "source": [
    "from map_designer import *\n",
    "from map_designer import MapDesigner as MD\n",
    "\n",
    "md = MD('pkl/maps/')"
   ]
  },
  {
   "cell_type": "code",
   "execution_count": 3,
   "id": "99990c4a",
   "metadata": {},
   "outputs": [
    {
     "name": "stdout",
     "output_type": "stream",
     "text": [
      "1/2\n"
     ]
    },
    {
     "data": {
      "image/png": "[encoded data removed]",
      "text/plain": [
       "<Figure size 432x288 with 1 Axes>"
      ]
     },
     "metadata": {
      "needs_background": "light"
     },
     "output_type": "display_data"
    },
    {
     "name": "stdout",
     "output_type": "stream",
     "text": [
      "2/2\n"
     ]
    },
    {
     "data": {
      "image/png": "[encoded data removed]",
      "text/plain": [
       "<Figure size 432x288 with 1 Axes>"
      ]
     },
     "metadata": {
      "needs_background": "light"
     },
     "output_type": "display_data"
    }
   ],
   "source": [
    "md.plot(n=2)"
   ]
  },
  {
   "cell_type": "markdown",
   "id": "fe730940",
   "metadata": {},
   "source": [
    "### (optional) more generate maps"
   ]
  },
  {
   "cell_type": "code",
   "execution_count": null,
   "id": "83d46acf",
   "metadata": {},
   "outputs": [],
   "source": [
    "for _ in range(10):\n",
    "    md.gen_gaussian_map_info()"
   ]
  },
  {
   "cell_type": "code",
   "execution_count": null,
   "id": "37c6e626",
   "metadata": {},
   "outputs": [],
   "source": [
    "md.plot(n=len(md.map_list))"
   ]
  },
  {
   "cell_type": "markdown",
   "id": "863e4dc2",
   "metadata": {},
   "source": [
    "## Save the designated maps"
   ]
  },
  {
   "cell_type": "code",
   "execution_count": 3,
   "id": "45a22fc8",
   "metadata": {},
   "outputs": [],
   "source": [
    "md.save(type='json')"
   ]
  },
  {
   "cell_type": "markdown",
   "id": "af5f67aa",
   "metadata": {},
   "source": [
    "# Load state and action information"
   ]
  },
  {
   "cell_type": "code",
   "execution_count": 3,
   "id": "e50fe23d",
   "metadata": {},
   "outputs": [
    {
     "name": "stdout",
     "output_type": "stream",
     "text": [
      "{'field': {'0-19': 0, '20-39': 1, '40-59': 2, '60-79': 3, '80-100': 4}, 'wall': {'0-19': 5, '20-39': 6, '40-59': 7, '60-79': 8, '80-100': 9}, 'air': {'0-19': 10, '20-39': 11, '40-59': 12, '60-79': 13, '80-100': 14}, 'parachute': {'0-19': 15, '20-39': 16, '40-59': 17, '60-79': 18, '80-100': 19}, 'death': 20, 'goal': 21}\n",
      "5\n",
      "61 34\n",
      "{'Wait': 0, 'W': 1, 'A': 2, 'S': 3, 'D': 4, 'WA': 5, 'WD': 6, 'SD': 7, 'SA': 8, 'Ws': 9, 'As': 10, 'Ss': 11, 'Ds': 12, 'WAs': 13, 'WDs': 14, 'SDs': 15, 'SAs': 16, 'Wj': 17, 'Aj': 18, 'Sj': 19, 'Dj': 20, 'WAj': 21, 'WDj': 22, 'SDj': 23, 'SAj': 24, 'Wsj': 25, 'Asj': 26, 'Ssj': 27, 'Dsj': 28, 'WAsj': 29, 'WDsj': 30, 'SDsj': 31, 'SAsj': 32, 'j': 33}\n"
     ]
    }
   ],
   "source": [
    "import json\n",
    "\n",
    "with open('json/state_ids.json', 'r') as f:\n",
    "    state_ids = json.load(f)\n",
    "\n",
    "with open('json/action_ids.json', 'r') as f:\n",
    "    action_ids = json.load(f)\n",
    "    \n",
    "print(state_ids)\n",
    "print(len(state_ids['field']))\n",
    "\n",
    "num_states = 0\n",
    "for state in state_ids.keys():\n",
    "    if type(state_ids[state]) != int:\n",
    "        num_states += len(state_ids[state])\n",
    "    else:\n",
    "        num_states += state_ids[state]\n",
    "num_actions = len(action_ids)\n",
    "\n",
    "print(num_states, num_actions)\n",
    "print(action_ids)"
   ]
  },
  {
   "cell_type": "code",
   "execution_count": 4,
   "id": "0ced502d",
   "metadata": {},
   "outputs": [],
   "source": [
    "from environment import *"
   ]
  },
  {
   "cell_type": "markdown",
   "id": "60d75896",
   "metadata": {},
   "source": [
    "## Make agents"
   ]
  },
  {
   "cell_type": "code",
   "execution_count": 5,
   "id": "34c10abf",
   "metadata": {},
   "outputs": [
    {
     "name": "stdout",
     "output_type": "stream",
     "text": [
      "agents size: 12\n"
     ]
    }
   ],
   "source": [
    "# Agent(start_x=2.0, start_y=0.0, start_z=2.0, HP=100, stamina=100)\n",
    "agents = []\n",
    "for map_info in md.map_list:\n",
    "    x = np.random.randint(98) + 1 # 1 ~ 98\n",
    "    z = np.random.randint(98) + 1 # 1 ~ 98\n",
    "    my_agent = Agent(start_x=x, start_y=map_info[x,z], start_z=z)\n",
    "    agents.append(my_agent)\n",
    "\n",
    "print(f'agents size: {len(agents)}')"
   ]
  },
  {
   "cell_type": "code",
   "execution_count": 6,
   "id": "85a235ce",
   "metadata": {},
   "outputs": [],
   "source": [
    "for i in range(len(agents)):\n",
    "    with open(f'pkl/data/my_agent{i+1}.pkl', 'wb') as f:\n",
    "        pickle.dump(agents[i], f)"
   ]
  },
  {
   "cell_type": "code",
   "execution_count": 6,
   "id": "644fdc51",
   "metadata": {},
   "outputs": [],
   "source": [
    "agents = []\n",
    "for i in range(len(md.map_list)):\n",
    "    with open(f'pkl/data/my_agent{i+1}.pkl', 'rb') as f:\n",
    "        my_agent = pickle.load(f)\n",
    "        agents.append(my_agent)"
   ]
  },
  {
   "cell_type": "markdown",
   "id": "13afec2d",
   "metadata": {},
   "source": [
    "## Set goal positions"
   ]
  },
  {
   "cell_type": "code",
   "execution_count": 7,
   "id": "9b447229",
   "metadata": {},
   "outputs": [
    {
     "name": "stdout",
     "output_type": "stream",
     "text": [
      "[47. 20. 65.]\n",
      "[33.          2.12200064 17.        ]\n",
      "[6.0000000e+00 2.6907081e-02 5.1000000e+01]\n",
      "[16.          0.14595174 72.        ]\n",
      "[40.          0.42944827  9.        ]\n",
      "[62.  0. 24.]\n",
      "[48.          0.10523016  5.        ]\n",
      "[52.         18.05232905 23.        ]\n",
      "[7.70000000e+01 7.94292795e-03 5.60000000e+01]\n",
      "[ 3.  0. 97.]\n",
      "[62.          8.60890207 29.        ]\n",
      "[81.          1.90494242 77.        ]\n"
     ]
    }
   ],
   "source": [
    "goals = []\n",
    "for map_info in md.map_list:\n",
    "    gx = np.random.randint(98) + 1\n",
    "    gz = np.random.randint(98) + 1\n",
    "    goal_pos = np.array([gx, map_info[gx, gz], gz])\n",
    "    goals.append(goal_pos)\n",
    "    print(goal_pos)"
   ]
  },
  {
   "cell_type": "code",
   "execution_count": 8,
   "id": "dd5b8575",
   "metadata": {},
   "outputs": [],
   "source": [
    "with open(f'pkl/data/goals.pkl', 'wb') as f:\n",
    "    pickle.dump(goals, f)"
   ]
  },
  {
   "cell_type": "code",
   "execution_count": 7,
   "id": "1953a6bf",
   "metadata": {},
   "outputs": [
    {
     "name": "stdout",
     "output_type": "stream",
     "text": [
      "[47. 20. 65.]\n",
      "[33.          2.12200064 17.        ]\n",
      "[6.0000000e+00 2.6907081e-02 5.1000000e+01]\n",
      "[16.          0.14595174 72.        ]\n",
      "[40.          0.42944827  9.        ]\n",
      "[62.  0. 24.]\n",
      "[48.          0.10523016  5.        ]\n",
      "[52.         18.05232905 23.        ]\n",
      "[7.70000000e+01 7.94292795e-03 5.60000000e+01]\n",
      "[ 3.  0. 97.]\n",
      "[62.          8.60890207 29.        ]\n",
      "[81.          1.90494242 77.        ]\n"
     ]
    }
   ],
   "source": [
    "with open(f'pkl/data/goals.pkl', 'rb') as f:\n",
    "    goals = pickle.load(f)\n",
    "\n",
    "for goal_pos in goals:\n",
    "    print(goal_pos)"
   ]
  },
  {
   "cell_type": "markdown",
   "id": "314792d6",
   "metadata": {},
   "source": [
    "## Set environment"
   ]
  },
  {
   "cell_type": "code",
   "execution_count": 8,
   "id": "753021b6",
   "metadata": {},
   "outputs": [
    {
     "name": "stdout",
     "output_type": "stream",
     "text": [
      "length of envs: 12\n"
     ]
    }
   ],
   "source": [
    "# DO NOT modify the input parameters after constructing Environment.\n",
    "envs = []\n",
    "id = 1\n",
    "for map_info, goal_pos in zip(md.map_list, goals):\n",
    "    my_env = Environment(id=id, agent=my_agent, map_info=map_info, goal_position=goal_pos,\n",
    "            num_states=num_states, num_actions=num_actions,\n",
    "            state_ids=state_ids, action_ids=action_ids,\n",
    "            fall_damage=10, fall_min_height=6)\n",
    "    envs.append(my_env)\n",
    "    id += 1\n",
    "print(f'length of envs: {len(envs)}')"
   ]
  },
  {
   "cell_type": "code",
   "execution_count": 9,
   "id": "3d9d4c96",
   "metadata": {},
   "outputs": [],
   "source": [
    "for i in range(len(envs)):\n",
    "    with open(f'pkl/data/my_env{i+1}.pkl', 'wb') as f:\n",
    "        pickle.dump(envs[i], f)"
   ]
  },
  {
   "cell_type": "markdown",
   "id": "287c42d2",
   "metadata": {},
   "source": [
    "# Test Starting place"
   ]
  },
  {
   "cell_type": "code",
   "execution_count": 5,
   "id": "8c7570f0",
   "metadata": {},
   "outputs": [
    {
     "name": "stdout",
     "output_type": "stream",
     "text": [
      "goal positions\n",
      "[47. 20. 65.]\n",
      "[33.          2.12200064 17.        ]\n",
      "[6.0000000e+00 2.6907081e-02 5.1000000e+01]\n",
      "[16.          0.14595174 72.        ]\n",
      "[40.          0.42944827  9.        ]\n",
      "[62.  0. 24.]\n",
      "[48.          0.10523016  5.        ]\n",
      "[52.         18.05232905 23.        ]\n",
      "[7.70000000e+01 7.94292795e-03 5.60000000e+01]\n",
      "[ 3.  0. 97.]\n",
      "[62.          8.60890207 29.        ]\n",
      "[81.          1.90494242 77.        ]\n"
     ]
    }
   ],
   "source": [
    "from environment import *\n",
    "envs = []\n",
    "print('goal positions')\n",
    "for i in range(12):\n",
    "    with open(f'pkl/data/my_env{i+1}.pkl', 'rb') as f:\n",
    "        my_env = pickle.load(f)\n",
    "        envs.append(my_env)\n",
    "    print(envs[i].goal_position)"
   ]
  },
  {
   "cell_type": "code",
   "execution_count": 6,
   "id": "c05b384d",
   "metadata": {},
   "outputs": [],
   "source": [
    "for my_env in envs:\n",
    "    my_env.reset(dataset_initialize=True)"
   ]
  },
  {
   "cell_type": "code",
   "execution_count": 1,
   "id": "968863fe",
   "metadata": {},
   "outputs": [
    {
     "name": "stdout",
     "output_type": "stream",
     "text": [
      "^C\n"
     ]
    }
   ],
   "source": [
    "# 엔터치기 전에 생각했나요?\n",
    "!python mp_data_generator.py"
   ]
  },
  {
   "cell_type": "markdown",
   "id": "80355a62",
   "metadata": {},
   "source": [
    "## 잘 됐다고 가정  \n",
    "my_env.dataset: list of scenarios. each scenario is list of [rtg, state.no, action.action_id]\n",
    "rtg와 reward 둘 다 저장해야 할 수도 있음."
   ]
  },
  {
   "cell_type": "code",
   "execution_count": 1,
   "id": "1dc1dffa",
   "metadata": {},
   "outputs": [
    {
     "data": {
      "text/plain": [
       "'1.8.1'"
      ]
     },
     "execution_count": 1,
     "metadata": {},
     "output_type": "execute_result"
    }
   ],
   "source": [
    "import torch\n",
    "\n",
    "torch.__version__"
   ]
  },
  {
   "cell_type": "code",
   "execution_count": 2,
   "id": "e59c978a",
   "metadata": {},
   "outputs": [
    {
     "name": "stdout",
     "output_type": "stream",
     "text": [
      "path insert succeeded.\n"
     ]
    }
   ],
   "source": [
    "import sys\n",
    "import pathlib\n",
    "\n",
    "user_lib_path = str(pathlib.Path().absolute())\n",
    "user_lib_path += '/py'\n",
    "\n",
    "if user_lib_path not in sys.path:\n",
    "    sys.path.insert(0, user_lib_path)\n",
    "    print('path insert succeeded.')"
   ]
  },
  {
   "cell_type": "raw",
   "id": "20bbe4e2",
   "metadata": {},
   "source": [
    "# R, s, a, t: returns-to-go, states, actions, and timesteps\n",
    "# transformer: transformer with causal masking (GPT)\n",
    "# embed_s, embed_a, embed_R: linear embedding layers\n",
    "# pred_a: linear action prediction layer\n",
    "\n",
    "# main model\n",
    "def DecisionTransformer(R, s, a, t):\n",
    "    # compute embeddings for tokens\n",
    "    pos_embedding = embed_t(t)    # per-timestep (note: not per-token)"
   ]
  },
  {
   "cell_type": "markdown",
   "id": "621e8c90",
   "metadata": {},
   "source": [
    "# Hyperparameters\n",
    "아래 코드는 .py를 쉘에서 사용할 때 쓰는 코드"
   ]
  },
  {
   "cell_type": "raw",
   "id": "74ad7851",
   "metadata": {},
   "source": [
    "import argparse\n",
    "\n",
    "parser = argparse.ArgumentParser()\n",
    "#parser.add_argument('--env', type=str, default='hopper')\n",
    "#parser.add_argument('--dataset', type=str, default='medium')  # medium, medium-replay, medium-expert, expert\n",
    "parser.add_argument('--mode', type=str, default='normal')  # normal for standard setting, delayed for sparse\n",
    "parser.add_argument('--K', type=int, default=20)\n",
    "parser.add_argument('--pct_traj', type=float, default=1.)\n",
    "parser.add_argument('--batch_size', type=int, default=64)\n",
    "parser.add_argument('--model_type', type=str, default='dt')  # dt for decision transformer, bc for behavior cloning\n",
    "parser.add_argument('--embed_dim', type=int, default=128)\n",
    "parser.add_argument('--n_layer', type=int, default=3)\n",
    "parser.add_argument('--n_head', type=int, default=1)\n",
    "parser.add_argument('--activation_function', type=str, default='relu')\n",
    "parser.add_argument('--dropout', type=float, default=0.1)\n",
    "parser.add_argument('--learning_rate', '-lr', type=float, default=1e-4)\n",
    "parser.add_argument('--weight_decay', '-wd', type=float, default=1e-4)\n",
    "parser.add_argument('--warmup_steps', type=int, default=10000)\n",
    "parser.add_argument('--num_eval_episodes', type=int, default=100)\n",
    "parser.add_argument('--max_iters', type=int, default=10)\n",
    "parser.add_argument('--num_steps_per_iter', type=int, default=10000)\n",
    "parser.add_argument('--device', type=str, default='cuda')\n",
    "parser.add_argument('--log_to_wandb', '-w', type=bool, default=False)\n",
    "\n",
    "args = parser.parse_args()\n",
    "variant = vars(args)"
   ]
  },
  {
   "cell_type": "code",
   "execution_count": 3,
   "id": "d1578f4c",
   "metadata": {},
   "outputs": [],
   "source": [
    "mode = 'normal'\n",
    "K = 20\n",
    "pct_traj = 1.\n",
    "batch_size = 64\n",
    "model_type = 'dt'   # decision transformer\n",
    "embed_dim = 128\n",
    "n_layer = 3\n",
    "n_head = 4\n",
    "activation_function = 'relu'\n",
    "dropout = .1\n",
    "leraning_rate = 1e-4\n",
    "weight_decay = 1e-4\n",
    "warmup_steps = 10000\n",
    "num_eval_episodes = 100\n",
    "max_iters = 10\n",
    "num_steps_per_iter = 10000\n",
    "device = 'cuda'\n",
    "log_to_wandb = False"
   ]
  },
  {
   "cell_type": "code",
   "execution_count": 4,
   "id": "d8fe9a72",
   "metadata": {},
   "outputs": [
    {
     "name": "stdout",
     "output_type": "stream",
     "text": [
      "[0, 1, 2, 3, 4, 5, 6, 7, 8, 9, 10, 11, 12, 13, 14, 15, 16, 17, 18, 19, 20, 21]\n"
     ]
    }
   ],
   "source": [
    "state_dim = 4           # State class의 instance 수\n",
    "act_dim = 6             # Action class의 instance 수\n",
    "max_ep_len = 500\n",
    "scale = 10\n",
    "\n",
    "states = []\n",
    "import json\n",
    "import numpy as np\n",
    "with open(f'json/state_ids.json', 'r') as f:\n",
    "    state_ids = json.load(f)\n",
    "for state in state_ids.keys():\n",
    "    if type(state_ids[state]) != int:\n",
    "        for sub_key in state_ids[state]:\n",
    "            states.append(state_ids[state][sub_key])\n",
    "    else:\n",
    "        states.append(state_ids[state])\n",
    "print(states)\n",
    "#states = np.concatenate(np.array(states), axis=0)\n",
    "states = np.array(states)\n",
    "state_mean, state_std = np.mean(states, axis=0), np.std(states, axis=0) + 1e-6"
   ]
  },
  {
   "cell_type": "markdown",
   "id": "7a2b5943",
   "metadata": {},
   "source": [
    "## batch construction"
   ]
  },
  {
   "cell_type": "code",
   "execution_count": 8,
   "id": "ba33960a",
   "metadata": {},
   "outputs": [
    {
     "name": "stdout",
     "output_type": "stream",
     "text": [
      "death\n",
      "['env_1', 'env_10', 'env_11', 'env_12', 'env_2', 'env_3', 'env_4', 'env_5', 'env_6', 'env_7', 'env_8', 'env_9']\n",
      "env_1:5\n",
      "env_10:6\n",
      "env_11:6\n",
      "env_12:7\n",
      "env_2:11\n",
      "env_3:11\n",
      "env_4:15\n",
      "env_5:9\n",
      "env_6:11\n",
      "env_7:14\n",
      "env_8:9\n",
      "env_9:21\n",
      "goal\n",
      "['env_3', 'env_6', 'env_9']\n",
      "env_3:1\n",
      "env_6:5\n",
      "env_9:4\n"
     ]
    }
   ],
   "source": [
    "import pickle\n",
    "import sys\n",
    "import pathlib\n",
    "\n",
    "user_lib_path = str(pathlib.Path().absolute())\n",
    "user_lib_path += '/py'\n",
    "\n",
    "if user_lib_path not in sys.path:\n",
    "    sys.path.insert(0, user_lib_path)\n",
    "    print('path insert succeeded.')\n",
    "    \n",
    "import os\n",
    "path = 'pkl/scenario/' \n",
    "terminals = os.listdir(path)\n",
    "trajectories = []\n",
    "env_terminal = {}\n",
    "for terminal in terminals:\n",
    "    env_dirs = os.listdir(path + terminal + '/')\n",
    "    env_terminal[terminal] = {}\n",
    "    for env_ in env_dirs:\n",
    "        files = os.listdir(path + terminal + '/' + env_ + '/')\n",
    "        env_terminal[terminal][env_] = len(files)\n",
    "        for file in files:\n",
    "            file_path = path + terminal + '/' + env_ + '/' + file\n",
    "            with open(file_path, 'rb') as f:\n",
    "                traj = pickle.load(f)\n",
    "                trajectories.append(traj)\n",
    "\n",
    "for inventory in env_terminal:\n",
    "    print(inventory)\n",
    "    inventory = env_terminal[inventory]\n",
    "    keys = inventory.keys()\n",
    "    print(list(keys))\n",
    "    for env_ in keys:\n",
    "        print(f'{env_}:{inventory[env_]}')\n",
    "\n"
   ]
  },
  {
   "cell_type": "code",
   "execution_count": 6,
   "id": "78321be5",
   "metadata": {},
   "outputs": [
    {
     "name": "stdout",
     "output_type": "stream",
     "text": [
      "==================================================\n",
      "Starting new experiment: 3DPFg_1\n",
      "29 trajectories, 1163 timesteps found\n",
      "Average return: -413774.12, std: 492534.12\n",
      "Max return: 63.98, min: -1000019.12\n",
      "==================================================\n"
     ]
    }
   ],
   "source": [
    "# save all path information into separate lists\n",
    "mode = 'normal' #variant.get('mode', 'normal')\n",
    "states, traj_lens, returns = [], [], []\n",
    "for path in trajectories:\n",
    "    if mode == 'delayed':  # delayed: all rewards moved to end of trajectory\n",
    "        path['rewards'][-1] = path['rewards'].sum()\n",
    "        path['rewards'][:-1] = 0.\n",
    "    states.append(path['observations'])\n",
    "    traj_lens.append(len(path['observations']))\n",
    "    returns.append(np.array(path['rewards']).sum())\n",
    "traj_lens, returns = np.array(traj_lens), np.array(returns, dtype=np.float32)\n",
    "\n",
    "# used for input normalization\n",
    "states = np.concatenate(states, axis=0, dtype=np.float32)\n",
    "state_mean, state_std = np.mean(states, axis=0), np.std(states, axis=0) + 1e-6\n",
    "\n",
    "num_timesteps = sum(traj_lens)\n",
    "env_name = '3DPFg_1'\n",
    "\n",
    "print('=' * 50)\n",
    "print(f'Starting new experiment: {env_name}')\n",
    "print(f'{len(traj_lens)} trajectories, {num_timesteps} timesteps found')\n",
    "print(f'Average return: {np.mean(returns):.2f}, std: {np.std(returns):.2f}')\n",
    "print(f'Max return: {np.max(returns):.2f}, min: {np.min(returns):.2f}')\n",
    "print('=' * 50)\n",
    "\n",
    "# only train on top pct_traj trajectories (for %BC experiment)\n",
    "num_timesteps = max(int(pct_traj*num_timesteps), 1)\n",
    "sorted_inds = np.argsort(returns)  # lowest to highest\n",
    "num_trajectories = 1\n",
    "timesteps = traj_lens[sorted_inds[-1]]\n",
    "ind = len(trajectories) - 2\n",
    "while ind >= 0 and timesteps + traj_lens[sorted_inds[ind]] < num_timesteps:\n",
    "    timesteps += traj_lens[sorted_inds[ind]]\n",
    "    num_trajectories += 1\n",
    "    ind -= 1\n",
    "sorted_inds = sorted_inds[-num_trajectories:]\n",
    "\n",
    "# used to reweight sampling so we sample according to timesteps instead of trajectories\n",
    "p_sample = traj_lens[sorted_inds] / sum(traj_lens[sorted_inds])"
   ]
  },
  {
   "cell_type": "code",
   "execution_count": 7,
   "id": "f2998fe5",
   "metadata": {},
   "outputs": [],
   "source": [
    "import random\n",
    "\n",
    "def discount_cumsum(x, gamma):\n",
    "    discount_cumsum = np.zeros_like(x)\n",
    "    discount_cumsum[-1] = x[-1]\n",
    "    for t in reversed(range(x.shape[0]-1)):\n",
    "        discount_cumsum[t] = x[t] + gamma * discount_cumsum[t+1]\n",
    "    return discount_cumsum\n",
    "\n",
    "def get_batch(batch_size=256, max_len=K):\n",
    "    # \n",
    "    batch_inds = np.random.choice(\n",
    "        np.arange(num_trajectories),\n",
    "        size=batch_size,\n",
    "        replace=True,\n",
    "        p=p_sample,  # reweights so we sample according to timesteps\n",
    "    )\n",
    "    s, a, r, d, rtg, timesteps, mask = [], [], [], [], [], [], []\n",
    "    for i in range(batch_size):\n",
    "        traj = trajectories[int(sorted_inds[batch_inds[i]])] # one scene\n",
    "        si = random.randint(0, traj['rewards'].shape[0] - 1)\n",
    "\n",
    "        # get sequences from dataset\n",
    "        s.append(traj['observations'][si:si + max_len].reshape(1, -1, state_dim))\n",
    "        a.append(traj['actions'][si:si + max_len].reshape(1, -1, act_dim))\n",
    "        r.append(traj['rewards'][si:si + max_len].reshape(1, -1, 1))\n",
    "        '''if 'terminals' in traj:\n",
    "            d.append(traj['terminals'][si:si + max_len].reshape(1, -1))\n",
    "        else:\n",
    "            d.append(traj['dones'][si:si + max_len].reshape(1, -1))'''\n",
    "        timesteps.append(np.arange(si, si + s[-1].shape[1]).reshape(1, -1))\n",
    "        timesteps[-1][timesteps[-1] >= max_ep_len] = max_ep_len-1  # padding cutoff\n",
    "        rtg.append(discount_cumsum(traj['rewards'][si:], gamma=1.)[:s[-1].shape[1] + 1].reshape(1, -1, 1))  # calculate return-to-go\n",
    "        if rtg[-1].shape[1] <= s[-1].shape[1]:\n",
    "            rtg[-1] = np.concatenate([rtg[-1], np.zeros((1, 1, 1))], axis=1)\n",
    "\n",
    "        # padding and state + reward normalization\n",
    "        tlen = s[-1].shape[1]\n",
    "        s[-1] = np.concatenate([np.zeros((1, max_len - tlen, state_dim)), s[-1]], axis=1)\n",
    "        s[-1] = (s[-1] - state_mean) / state_std\n",
    "        a[-1] = np.concatenate([np.ones((1, max_len - tlen, act_dim)) * -10., a[-1]], axis=1)\n",
    "        r[-1] = np.concatenate([np.zeros((1, max_len - tlen, 1)), r[-1]], axis=1)\n",
    "        #d[-1] = np.concatenate([np.ones((1, max_len - tlen)) * 2, d[-1]], axis=1)\n",
    "        rtg[-1] = np.concatenate([np.zeros((1, max_len - tlen, 1)), rtg[-1]], axis=1) / scale\n",
    "        timesteps[-1] = np.concatenate([np.zeros((1, max_len - tlen)), timesteps[-1]], axis=1, dtype=np.float32)\n",
    "        mask.append(np.concatenate([np.zeros((1, max_len - tlen)), np.ones((1, tlen))], axis=1))\n",
    "\n",
    "    s = torch.from_numpy(np.concatenate(s, axis=0)).to(dtype=torch.float32, device=device)\n",
    "    a = torch.from_numpy(np.concatenate(a, axis=0)).to(dtype=torch.float32, device=device)\n",
    "    r = torch.from_numpy(np.concatenate(r, axis=0)).to(dtype=torch.float32, device=device)\n",
    "    #d = torch.from_numpy(np.concatenate(d, axis=0)).to(dtype=torch.long, device=device)\n",
    "    rtg = torch.from_numpy(np.concatenate(rtg, axis=0)).to(dtype=torch.float32, device=device)\n",
    "    timesteps = torch.from_numpy(np.concatenate(timesteps, axis=0)).to(dtype=torch.long, device=device)\n",
    "    mask = torch.from_numpy(np.concatenate(mask, axis=0)).to(device=device)\n",
    "\n",
    "    return s, a, r, d, rtg, timesteps, mask"
   ]
  },
  {
   "cell_type": "markdown",
   "id": "f2e8bb85",
   "metadata": {},
   "source": [
    "## Load environments"
   ]
  },
  {
   "cell_type": "code",
   "execution_count": 8,
   "id": "15791f3d",
   "metadata": {},
   "outputs": [
    {
     "name": "stdout",
     "output_type": "stream",
     "text": [
      "goal positions\n",
      "[47. 20. 65.]\n",
      "[33.          2.12200064 17.        ]\n",
      "[6.0000000e+00 2.6907081e-02 5.1000000e+01]\n",
      "[16.          0.14595174 72.        ]\n",
      "[40.          0.42944827  9.        ]\n",
      "[62.  0. 24.]\n",
      "[48.          0.10523016  5.        ]\n",
      "[52.         18.05232905 23.        ]\n",
      "[7.70000000e+01 7.94292795e-03 5.60000000e+01]\n",
      "[ 3.  0. 97.]\n",
      "[62.          8.60890207 29.        ]\n",
      "[81.          1.90494242 77.        ]\n"
     ]
    }
   ],
   "source": [
    "from environment import *\n",
    "envs = []\n",
    "print('goal positions')\n",
    "for i in range(12):\n",
    "    with open(f'pkl/data/my_env{i+1}.pkl', 'rb') as f:\n",
    "        my_env = pickle.load(f)\n",
    "        envs.append(my_env)\n",
    "    print(envs[i].goal_position)"
   ]
  },
  {
   "cell_type": "code",
   "execution_count": 9,
   "id": "f10c5c4e",
   "metadata": {},
   "outputs": [],
   "source": [
    "from evaluate_episodes import *\n",
    "\n",
    "# TODO: env=my_env에서, my_env를 arg로 받아서 차례대로 넘겨주게끔 작성\n",
    "# target_rew 2개 당 1개의 env가 매핑되도록\n",
    "def eval_episodes(target_rew, env):\n",
    "    def fn(model):\n",
    "        returns, lengths = [], []\n",
    "        for _ in range(num_eval_episodes):\n",
    "            with torch.no_grad():\n",
    "                ret, length = evaluate_episode_rtg(\n",
    "                    env=env,\n",
    "                    state_dim=state_dim,\n",
    "                    act_dim=act_dim,\n",
    "                    model=model,\n",
    "                    max_ep_len=max_ep_len,\n",
    "                    scale=scale,\n",
    "                    target_return=target_rew/scale,\n",
    "                    mode=mode,\n",
    "                    state_mean=state_mean,\n",
    "                    state_std=state_std,\n",
    "                    device=device,\n",
    "                )\n",
    "            returns.append(ret)\n",
    "            lengths.append(length)\n",
    "        return {\n",
    "            f'target_{target_rew}_return_mean': np.mean(returns),\n",
    "            f'target_{target_rew}_return_std': np.std(returns),\n",
    "            f'target_{target_rew}_length_mean': np.mean(lengths),\n",
    "            f'target_{target_rew}_length_std': np.std(lengths),\n",
    "        }\n",
    "    return fn"
   ]
  },
  {
   "cell_type": "markdown",
   "id": "f8e3897c",
   "metadata": {},
   "source": [
    "## Model construction"
   ]
  },
  {
   "cell_type": "code",
   "execution_count": 10,
   "id": "55feb386",
   "metadata": {},
   "outputs": [],
   "source": [
    "from decision_transformer import DecisionTransformer\n",
    "import torch\n",
    "model = DecisionTransformer(\n",
    "    state_dim=state_dim,\n",
    "    act_dim=act_dim,\n",
    "    max_length=K,\n",
    "    max_ep_len=max_ep_len,\n",
    "    hidden_size=embed_dim,\n",
    "    n_layer=n_layer,\n",
    "    n_head=n_head,\n",
    "    n_inner=4*embed_dim,\n",
    "    activation_function=activation_function,\n",
    "    n_positions=1024,\n",
    "    resid_pdrop=dropout,\n",
    "    attn_pdrop=dropout,\n",
    ")\n",
    "\n",
    "model = model.to(device=device)\n",
    "#warmup_steps = warmup_steps\n",
    "optimizer = torch.optim.AdamW(\n",
    "    model.parameters(),\n",
    "    lr=leraning_rate,\n",
    "    weight_decay=weight_decay,\n",
    ")\n",
    "scheduler = torch.optim.lr_scheduler.LambdaLR(\n",
    "    optimizer,\n",
    "    lambda steps: min((steps+1)/warmup_steps, 1)\n",
    ")"
   ]
  },
  {
   "cell_type": "code",
   "execution_count": 11,
   "id": "9debcf8e",
   "metadata": {},
   "outputs": [],
   "source": [
    "from seq_trainer import SequenceTrainer\n",
    "\n",
    "env_targets = [500, 256] # time steps to observe\n",
    "len_env_targets = len(env_targets)\n",
    "env_list = []\n",
    "num_env = 1\n",
    "for _ in range(num_env):\n",
    "    # env = blabla\n",
    "    for _ in range(len_env_targets):\n",
    "        env_list.append(my_env)\n",
    "\n",
    "trainer = SequenceTrainer(\n",
    "    model=model,\n",
    "    optimizer=optimizer,\n",
    "    batch_size=batch_size,\n",
    "    get_batch=get_batch,\n",
    "    scheduler=scheduler,\n",
    "    loss_fn=lambda s_hat, a_hat, r_hat, s, a, r: torch.mean((a_hat - a)**2),\n",
    "    eval_fns=[eval_episodes(tar, env) for tar, env in zip(env_targets, env_list)],\n",
    ")"
   ]
  },
  {
   "cell_type": "markdown",
   "id": "2d77a349",
   "metadata": {},
   "source": [
    "# Learning"
   ]
  },
  {
   "cell_type": "code",
   "execution_count": 12,
   "id": "992fae4e",
   "metadata": {},
   "outputs": [
    {
     "name": "stdout",
     "output_type": "stream",
     "text": [
      "depatched action:[0.9999961  0.9999998  0.9999999  0.99999964 0.9999995 ]\n"
     ]
    },
    {
     "ename": "AttributeError",
     "evalue": "'numpy.ndarray' object has no attribute 'input_key'",
     "output_type": "error",
     "traceback": [
      "\u001b[1;31m---------------------------------------------------------------------------\u001b[0m",
      "\u001b[1;31mAttributeError\u001b[0m                            Traceback (most recent call last)",
      "\u001b[1;32m~\\AppData\\Local\\Temp/ipykernel_13264/1426996353.py\u001b[0m in \u001b[0;36m<module>\u001b[1;34m\u001b[0m\n\u001b[0;32m     15\u001b[0m \u001b[1;33m\u001b[0m\u001b[0m\n\u001b[0;32m     16\u001b[0m \u001b[1;32mfor\u001b[0m \u001b[0miter\u001b[0m \u001b[1;32min\u001b[0m \u001b[0mrange\u001b[0m\u001b[1;33m(\u001b[0m\u001b[0mmax_iters\u001b[0m\u001b[1;33m)\u001b[0m\u001b[1;33m:\u001b[0m\u001b[1;33m\u001b[0m\u001b[1;33m\u001b[0m\u001b[0m\n\u001b[1;32m---> 17\u001b[1;33m     \u001b[0moutputs\u001b[0m \u001b[1;33m=\u001b[0m \u001b[0mtrainer\u001b[0m\u001b[1;33m.\u001b[0m\u001b[0mtrain_iteration\u001b[0m\u001b[1;33m(\u001b[0m\u001b[0mnum_steps\u001b[0m\u001b[1;33m=\u001b[0m\u001b[0mnum_steps_per_iter\u001b[0m\u001b[1;33m,\u001b[0m \u001b[0miter_num\u001b[0m\u001b[1;33m=\u001b[0m\u001b[0miter\u001b[0m\u001b[1;33m+\u001b[0m\u001b[1;36m1\u001b[0m\u001b[1;33m,\u001b[0m \u001b[0mprint_logs\u001b[0m\u001b[1;33m=\u001b[0m\u001b[1;32mTrue\u001b[0m\u001b[1;33m)\u001b[0m\u001b[1;33m\u001b[0m\u001b[1;33m\u001b[0m\u001b[0m\n\u001b[0m\u001b[0;32m     18\u001b[0m     \u001b[1;32mif\u001b[0m \u001b[0mlog_to_wandb\u001b[0m\u001b[1;33m:\u001b[0m\u001b[1;33m\u001b[0m\u001b[1;33m\u001b[0m\u001b[0m\n\u001b[0;32m     19\u001b[0m         \u001b[0mwandb\u001b[0m\u001b[1;33m.\u001b[0m\u001b[0mlog\u001b[0m\u001b[1;33m(\u001b[0m\u001b[0moutputs\u001b[0m\u001b[1;33m)\u001b[0m\u001b[1;33m\u001b[0m\u001b[1;33m\u001b[0m\u001b[0m\n",
      "\u001b[1;32md:\\개인 폴더\\programming\\Github\\3DPFg\\src/py\\trainer.py\u001b[0m in \u001b[0;36mtrain_iteration\u001b[1;34m(self, num_steps, iter_num, print_logs)\u001b[0m\n\u001b[0;32m     39\u001b[0m         \u001b[0mself\u001b[0m\u001b[1;33m.\u001b[0m\u001b[0mmodel\u001b[0m\u001b[1;33m.\u001b[0m\u001b[0meval\u001b[0m\u001b[1;33m(\u001b[0m\u001b[1;33m)\u001b[0m\u001b[1;33m\u001b[0m\u001b[1;33m\u001b[0m\u001b[0m\n\u001b[0;32m     40\u001b[0m         \u001b[1;32mfor\u001b[0m \u001b[0meval_fn\u001b[0m \u001b[1;32min\u001b[0m \u001b[0mself\u001b[0m\u001b[1;33m.\u001b[0m\u001b[0meval_fns\u001b[0m\u001b[1;33m:\u001b[0m\u001b[1;33m\u001b[0m\u001b[1;33m\u001b[0m\u001b[0m\n\u001b[1;32m---> 41\u001b[1;33m             \u001b[0moutputs\u001b[0m \u001b[1;33m=\u001b[0m \u001b[0meval_fn\u001b[0m\u001b[1;33m(\u001b[0m\u001b[0mself\u001b[0m\u001b[1;33m.\u001b[0m\u001b[0mmodel\u001b[0m\u001b[1;33m)\u001b[0m\u001b[1;33m\u001b[0m\u001b[1;33m\u001b[0m\u001b[0m\n\u001b[0m\u001b[0;32m     42\u001b[0m             \u001b[1;32mfor\u001b[0m \u001b[0mk\u001b[0m\u001b[1;33m,\u001b[0m \u001b[0mv\u001b[0m \u001b[1;32min\u001b[0m \u001b[0moutputs\u001b[0m\u001b[1;33m.\u001b[0m\u001b[0mitems\u001b[0m\u001b[1;33m(\u001b[0m\u001b[1;33m)\u001b[0m\u001b[1;33m:\u001b[0m\u001b[1;33m\u001b[0m\u001b[1;33m\u001b[0m\u001b[0m\n\u001b[0;32m     43\u001b[0m                 \u001b[0mlogs\u001b[0m\u001b[1;33m[\u001b[0m\u001b[1;34mf'evaluation/{k}'\u001b[0m\u001b[1;33m]\u001b[0m \u001b[1;33m=\u001b[0m \u001b[0mv\u001b[0m\u001b[1;33m\u001b[0m\u001b[1;33m\u001b[0m\u001b[0m\n",
      "\u001b[1;32m~\\AppData\\Local\\Temp/ipykernel_13264/2545754809.py\u001b[0m in \u001b[0;36mfn\u001b[1;34m(model)\u001b[0m\n\u001b[0;32m      8\u001b[0m         \u001b[1;32mfor\u001b[0m \u001b[0m_\u001b[0m \u001b[1;32min\u001b[0m \u001b[0mrange\u001b[0m\u001b[1;33m(\u001b[0m\u001b[0mnum_eval_episodes\u001b[0m\u001b[1;33m)\u001b[0m\u001b[1;33m:\u001b[0m\u001b[1;33m\u001b[0m\u001b[1;33m\u001b[0m\u001b[0m\n\u001b[0;32m      9\u001b[0m             \u001b[1;32mwith\u001b[0m \u001b[0mtorch\u001b[0m\u001b[1;33m.\u001b[0m\u001b[0mno_grad\u001b[0m\u001b[1;33m(\u001b[0m\u001b[1;33m)\u001b[0m\u001b[1;33m:\u001b[0m\u001b[1;33m\u001b[0m\u001b[1;33m\u001b[0m\u001b[0m\n\u001b[1;32m---> 10\u001b[1;33m                 ret, length = evaluate_episode_rtg(\n\u001b[0m\u001b[0;32m     11\u001b[0m                     \u001b[0menv\u001b[0m\u001b[1;33m=\u001b[0m\u001b[0menv\u001b[0m\u001b[1;33m,\u001b[0m\u001b[1;33m\u001b[0m\u001b[1;33m\u001b[0m\u001b[0m\n\u001b[0;32m     12\u001b[0m                     \u001b[0mstate_dim\u001b[0m\u001b[1;33m=\u001b[0m\u001b[0mstate_dim\u001b[0m\u001b[1;33m,\u001b[0m\u001b[1;33m\u001b[0m\u001b[1;33m\u001b[0m\u001b[0m\n",
      "\u001b[1;32md:\\개인 폴더\\programming\\Github\\3DPFg\\src/py\\evaluate_episodes.py\u001b[0m in \u001b[0;36mevaluate_episode_rtg\u001b[1;34m(env, state_dim, act_dim, model, max_ep_len, scale, state_mean, state_std, device, target_return, mode)\u001b[0m\n\u001b[0;32m    116\u001b[0m         \u001b[0maction\u001b[0m \u001b[1;33m=\u001b[0m \u001b[0maction\u001b[0m\u001b[1;33m.\u001b[0m\u001b[0mdetach\u001b[0m\u001b[1;33m(\u001b[0m\u001b[1;33m)\u001b[0m\u001b[1;33m.\u001b[0m\u001b[0mcpu\u001b[0m\u001b[1;33m(\u001b[0m\u001b[1;33m)\u001b[0m\u001b[1;33m.\u001b[0m\u001b[0mnumpy\u001b[0m\u001b[1;33m(\u001b[0m\u001b[1;33m)\u001b[0m\u001b[1;33m\u001b[0m\u001b[1;33m\u001b[0m\u001b[0m\n\u001b[0;32m    117\u001b[0m         \u001b[0mprint\u001b[0m\u001b[1;33m(\u001b[0m\u001b[1;34mf'depatched action:{action}'\u001b[0m\u001b[1;33m)\u001b[0m \u001b[1;31m# for checking\u001b[0m\u001b[1;33m\u001b[0m\u001b[1;33m\u001b[0m\u001b[0m\n\u001b[1;32m--> 118\u001b[1;33m         \u001b[0mstate\u001b[0m\u001b[1;33m,\u001b[0m \u001b[0mreward\u001b[0m\u001b[1;33m,\u001b[0m \u001b[0mdone\u001b[0m\u001b[1;33m,\u001b[0m \u001b[0m_\u001b[0m \u001b[1;33m=\u001b[0m \u001b[0menv\u001b[0m\u001b[1;33m.\u001b[0m\u001b[0mstep\u001b[0m\u001b[1;33m(\u001b[0m\u001b[0maction\u001b[0m\u001b[1;33m)\u001b[0m\u001b[1;33m\u001b[0m\u001b[1;33m\u001b[0m\u001b[0m\n\u001b[0m\u001b[0;32m    119\u001b[0m \u001b[1;33m\u001b[0m\u001b[0m\n\u001b[0;32m    120\u001b[0m         \u001b[0mcur_state\u001b[0m \u001b[1;33m=\u001b[0m \u001b[0mtorch\u001b[0m\u001b[1;33m.\u001b[0m\u001b[0mfrom_numpy\u001b[0m\u001b[1;33m(\u001b[0m\u001b[0mstate\u001b[0m\u001b[1;33m)\u001b[0m\u001b[1;33m.\u001b[0m\u001b[0mto\u001b[0m\u001b[1;33m(\u001b[0m\u001b[0mdevice\u001b[0m\u001b[1;33m=\u001b[0m\u001b[0mdevice\u001b[0m\u001b[1;33m)\u001b[0m\u001b[1;33m.\u001b[0m\u001b[0mreshape\u001b[0m\u001b[1;33m(\u001b[0m\u001b[1;36m1\u001b[0m\u001b[1;33m,\u001b[0m \u001b[0mstate_dim\u001b[0m\u001b[1;33m)\u001b[0m\u001b[1;33m\u001b[0m\u001b[1;33m\u001b[0m\u001b[0m\n",
      "\u001b[1;32md:\\개인 폴더\\programming\\Github\\3DPFg\\src/py\\environment.py\u001b[0m in \u001b[0;36mstep\u001b[1;34m(self, action)\u001b[0m\n\u001b[0;32m    300\u001b[0m \u001b[1;33m\u001b[0m\u001b[0m\n\u001b[0;32m    301\u001b[0m     \u001b[1;32mdef\u001b[0m \u001b[0mstep\u001b[0m\u001b[1;33m(\u001b[0m\u001b[0mself\u001b[0m\u001b[1;33m,\u001b[0m \u001b[0maction\u001b[0m\u001b[1;33m)\u001b[0m\u001b[1;33m:\u001b[0m\u001b[1;33m\u001b[0m\u001b[1;33m\u001b[0m\u001b[0m\n\u001b[1;32m--> 302\u001b[1;33m         \u001b[0mreward\u001b[0m\u001b[1;33m,\u001b[0m \u001b[0mstate\u001b[0m\u001b[1;33m,\u001b[0m \u001b[0mnext_pos\u001b[0m \u001b[1;33m=\u001b[0m \u001b[0mself\u001b[0m\u001b[1;33m.\u001b[0m\u001b[0mreward\u001b[0m\u001b[1;33m(\u001b[0m\u001b[0mself\u001b[0m\u001b[1;33m.\u001b[0m\u001b[0mstate\u001b[0m\u001b[1;33m,\u001b[0m \u001b[0maction\u001b[0m\u001b[1;33m)\u001b[0m\u001b[1;33m\u001b[0m\u001b[1;33m\u001b[0m\u001b[0m\n\u001b[0m\u001b[0;32m    303\u001b[0m         \u001b[0mdone\u001b[0m \u001b[1;33m=\u001b[0m \u001b[1;33m(\u001b[0m\u001b[0mstate\u001b[0m\u001b[1;33m.\u001b[0m\u001b[0mid\u001b[0m \u001b[1;33m==\u001b[0m \u001b[1;34m'goal'\u001b[0m\u001b[1;33m)\u001b[0m\u001b[1;33m\u001b[0m\u001b[1;33m\u001b[0m\u001b[0m\n\u001b[0;32m    304\u001b[0m         \u001b[1;32mreturn\u001b[0m \u001b[0mstate\u001b[0m\u001b[1;33m,\u001b[0m \u001b[0mreward\u001b[0m\u001b[1;33m,\u001b[0m \u001b[0mdone\u001b[0m\u001b[1;33m,\u001b[0m \u001b[0mnext_pos\u001b[0m\u001b[1;33m\u001b[0m\u001b[1;33m\u001b[0m\u001b[0m\n",
      "\u001b[1;32md:\\개인 폴더\\programming\\Github\\3DPFg\\src/py\\environment.py\u001b[0m in \u001b[0;36mreward\u001b[1;34m(self, state, action)\u001b[0m\n\u001b[0;32m    294\u001b[0m \u001b[1;33m\u001b[0m\u001b[0m\n\u001b[0;32m    295\u001b[0m     \u001b[1;32mdef\u001b[0m \u001b[0mreward\u001b[0m\u001b[1;33m(\u001b[0m\u001b[0mself\u001b[0m\u001b[1;33m,\u001b[0m \u001b[0mstate\u001b[0m\u001b[1;33m,\u001b[0m \u001b[0maction\u001b[0m\u001b[1;33m)\u001b[0m\u001b[1;33m:\u001b[0m\u001b[1;33m\u001b[0m\u001b[1;33m\u001b[0m\u001b[0m\n\u001b[1;32m--> 296\u001b[1;33m         \u001b[0mnext_state\u001b[0m\u001b[1;33m,\u001b[0m \u001b[0mnext_pos\u001b[0m \u001b[1;33m=\u001b[0m \u001b[0mself\u001b[0m\u001b[1;33m.\u001b[0m\u001b[0mstate_transition\u001b[0m\u001b[1;33m(\u001b[0m\u001b[0mstate\u001b[0m\u001b[1;33m,\u001b[0m \u001b[0maction\u001b[0m\u001b[1;33m)\u001b[0m\u001b[1;33m\u001b[0m\u001b[1;33m\u001b[0m\u001b[0m\n\u001b[0m\u001b[0;32m    297\u001b[0m         \u001b[0mdeltaDistance\u001b[0m \u001b[1;33m=\u001b[0m \u001b[0mnext_state\u001b[0m\u001b[1;33m.\u001b[0m\u001b[0mremained_distance\u001b[0m \u001b[1;33m-\u001b[0m \u001b[0mstate\u001b[0m\u001b[1;33m.\u001b[0m\u001b[0mremained_distance\u001b[0m\u001b[1;33m\u001b[0m\u001b[1;33m\u001b[0m\u001b[0m\n\u001b[0;32m    298\u001b[0m \u001b[1;33m\u001b[0m\u001b[0m\n",
      "\u001b[1;32md:\\개인 폴더\\programming\\Github\\3DPFg\\src/py\\environment.py\u001b[0m in \u001b[0;36mstate_transition\u001b[1;34m(self, state, action)\u001b[0m\n\u001b[0;32m    215\u001b[0m         \u001b[1;32mif\u001b[0m \u001b[0mstate\u001b[0m\u001b[1;33m.\u001b[0m\u001b[0mid\u001b[0m \u001b[1;33m==\u001b[0m \u001b[1;34m'death'\u001b[0m \u001b[1;32mor\u001b[0m \u001b[0mstate\u001b[0m\u001b[1;33m.\u001b[0m\u001b[0mid\u001b[0m \u001b[1;33m==\u001b[0m \u001b[1;34m'goal'\u001b[0m\u001b[1;33m:\u001b[0m\u001b[1;33m\u001b[0m\u001b[1;33m\u001b[0m\u001b[0m\n\u001b[0;32m    216\u001b[0m             \u001b[1;32mreturn\u001b[0m \u001b[0mstate\u001b[0m\u001b[1;33m,\u001b[0m \u001b[0mself\u001b[0m\u001b[1;33m.\u001b[0m\u001b[0magent\u001b[0m\u001b[1;33m.\u001b[0m\u001b[0mget_current_pos\u001b[0m\u001b[1;33m(\u001b[0m\u001b[1;33m)\u001b[0m\u001b[1;33m\u001b[0m\u001b[1;33m\u001b[0m\u001b[0m\n\u001b[1;32m--> 217\u001b[1;33m         \u001b[0mnext_pos\u001b[0m\u001b[1;33m,\u001b[0m \u001b[0mnext_state_id\u001b[0m \u001b[1;33m=\u001b[0m \u001b[0mself\u001b[0m\u001b[1;33m.\u001b[0m\u001b[0mcal_next_pos\u001b[0m\u001b[1;33m(\u001b[0m\u001b[0mstate\u001b[0m\u001b[1;33m,\u001b[0m \u001b[0maction\u001b[0m\u001b[1;33m)\u001b[0m\u001b[1;33m\u001b[0m\u001b[1;33m\u001b[0m\u001b[0m\n\u001b[0m\u001b[0;32m    218\u001b[0m \u001b[1;33m\u001b[0m\u001b[0m\n\u001b[0;32m    219\u001b[0m         \u001b[0mremained_distance\u001b[0m \u001b[1;33m=\u001b[0m \u001b[0mEuclideanDistance\u001b[0m\u001b[1;33m(\u001b[0m\u001b[0mnext_pos\u001b[0m\u001b[1;33m,\u001b[0m \u001b[0mself\u001b[0m\u001b[1;33m.\u001b[0m\u001b[0mgoal_position\u001b[0m\u001b[1;33m)\u001b[0m\u001b[1;33m\u001b[0m\u001b[1;33m\u001b[0m\u001b[0m\n",
      "\u001b[1;32md:\\개인 폴더\\programming\\Github\\3DPFg\\src/py\\environment.py\u001b[0m in \u001b[0;36mcal_next_pos\u001b[1;34m(self, state, action)\u001b[0m\n\u001b[0;32m    113\u001b[0m         \u001b[0mnext_pos\u001b[0m \u001b[1;33m=\u001b[0m \u001b[0mself\u001b[0m\u001b[1;33m.\u001b[0m\u001b[0magent\u001b[0m\u001b[1;33m.\u001b[0m\u001b[0mget_current_position\u001b[0m\u001b[1;33m(\u001b[0m\u001b[1;33m)\u001b[0m\u001b[1;33m\u001b[0m\u001b[1;33m\u001b[0m\u001b[0m\n\u001b[0;32m    114\u001b[0m         \u001b[0mnext_state_id\u001b[0m \u001b[1;33m=\u001b[0m \u001b[0mstate\u001b[0m\u001b[1;33m.\u001b[0m\u001b[0mid\u001b[0m\u001b[1;33m\u001b[0m\u001b[1;33m\u001b[0m\u001b[0m\n\u001b[1;32m--> 115\u001b[1;33m         \u001b[1;32mif\u001b[0m \u001b[0mstate\u001b[0m\u001b[1;33m.\u001b[0m\u001b[0mid\u001b[0m \u001b[1;33m==\u001b[0m \u001b[1;34m'death'\u001b[0m \u001b[1;32mor\u001b[0m \u001b[0mstate\u001b[0m\u001b[1;33m.\u001b[0m\u001b[0mid\u001b[0m \u001b[1;33m==\u001b[0m \u001b[1;34m'goal'\u001b[0m \u001b[1;32mor\u001b[0m \u001b[0maction\u001b[0m\u001b[1;33m.\u001b[0m\u001b[0minput_key\u001b[0m \u001b[1;33m==\u001b[0m \u001b[1;34m'Wait'\u001b[0m\u001b[1;33m:\u001b[0m\u001b[1;33m\u001b[0m\u001b[1;33m\u001b[0m\u001b[0m\n\u001b[0m\u001b[0;32m    116\u001b[0m             \u001b[1;32mreturn\u001b[0m \u001b[0mnext_pos\u001b[0m\u001b[1;33m,\u001b[0m \u001b[0mstate\u001b[0m\u001b[1;33m.\u001b[0m\u001b[0mid\u001b[0m\u001b[1;33m\u001b[0m\u001b[1;33m\u001b[0m\u001b[0m\n\u001b[0;32m    117\u001b[0m         \u001b[1;32melif\u001b[0m \u001b[0mstate\u001b[0m\u001b[1;33m.\u001b[0m\u001b[0mid\u001b[0m \u001b[1;33m==\u001b[0m \u001b[1;34m'air'\u001b[0m \u001b[1;32mand\u001b[0m \u001b[1;34m'j'\u001b[0m \u001b[1;32min\u001b[0m \u001b[0maction\u001b[0m\u001b[1;33m.\u001b[0m\u001b[0minput_key\u001b[0m\u001b[1;33m:\u001b[0m\u001b[1;33m\u001b[0m\u001b[1;33m\u001b[0m\u001b[0m\n",
      "\u001b[1;31mAttributeError\u001b[0m: 'numpy.ndarray' object has no attribute 'input_key'"
     ]
    }
   ],
   "source": [
    "import wandb\n",
    "\n",
    "#log_to_wandb = variant.get('log_to_wandb', False)\n",
    "exp_prefix = '3DPFg-experiment'\n",
    "group_name = f'{exp_prefix}-{env_name}'     #f'{exp_prefix}-{env_name}-{dataset}'\n",
    "exp_prefix = f'{group_name}-{random.randint(int(1e5), int(1e6) - 1)}'\n",
    "if log_to_wandb:\n",
    "    wandb.init(\n",
    "        name=exp_prefix,\n",
    "        group=group_name,\n",
    "        project='decision-transformer',\n",
    "        config=variant\n",
    "    )\n",
    "    # wandb.watch(model)  # wandb has some bug\n",
    "\n",
    "for iter in range(max_iters):\n",
    "    outputs = trainer.train_iteration(num_steps=num_steps_per_iter, iter_num=iter+1, print_logs=True)\n",
    "    if log_to_wandb:\n",
    "        wandb.log(outputs)"
   ]
  },
  {
   "cell_type": "markdown",
   "id": "3f35ae91",
   "metadata": {},
   "source": [
    "# Evaluation\n",
    "직접 predict를 찍어보면서 관찰하자  \n",
    "이를테면, map_info를 N개 학습했을 때, 다른 test set map과 그에 상응하는 environment object들을 만들어 states, actions, rewards, rtg ... 를 구하여 action pred를 구하면 된다."
   ]
  },
  {
   "cell_type": "code",
   "execution_count": null,
   "id": "e4157941",
   "metadata": {},
   "outputs": [],
   "source": [
    "# in decision_transformer.py,\n",
    "# get_action(self, states, actions, rewards, returns_to_go, timesteps, **kwargs)\n",
    "\n",
    "action_pred = model.get_action(states, actions, rewards, returns_to_go, timesteps)"
   ]
  }
 ],
 "metadata": {
  "interpreter": {
   "hash": "3f5c12359c3a7aaf5540c68728e62b47e89e35e9d7e9f452d9bc9cc2d90be2a4"
  },
  "kernelspec": {
   "display_name": "Python 3.7.10 64-bit ('tensorflow': conda)",
   "name": "python3"
  },
  "language_info": {
   "codemirror_mode": {
    "name": "ipython",
    "version": 3
   },
   "file_extension": ".py",
   "mimetype": "text/x-python",
   "name": "python",
   "nbconvert_exporter": "python",
   "pygments_lexer": "ipython3",
   "version": "3.7.10"
  }
 },
 "nbformat": 4,
 "nbformat_minor": 5
}
