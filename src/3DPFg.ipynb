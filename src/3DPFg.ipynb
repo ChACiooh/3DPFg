{
 "cells": [
  {
   "cell_type": "markdown",
   "id": "ab63b494",
   "metadata": {},
   "source": [
    "# 3DPFg: 3D Path Finder with gravitial world\n",
    "author: Yeonggwon Pyo"
   ]
  },
  {
   "cell_type": "markdown",
   "id": "4d7bb6bd",
   "metadata": {},
   "source": [
    "## Prepare states and actions"
   ]
  },
  {
   "cell_type": "code",
   "execution_count": null,
   "id": "a7951933",
   "metadata": {},
   "outputs": [],
   "source": [
    "action_input_list = ['Wait', 'W', 'A', 'S', 'D',\n",
    "                     'WA', 'WD', 'SD', 'SA',\n",
    "                     'Ws', 'As', 'Ss', 'Ds',\n",
    "                     'WAs', 'WDs', 'SDs', 'SAs',\n",
    "                     'Wj', 'Aj', 'Sj', 'Dj',\n",
    "                     'WAj', 'WDj', 'SDj', 'SAj',\n",
    "                     'Wsj', 'Asj', 'Ssj', 'Dsj',\n",
    "                     'WAsj', 'WDsj', 'SDsj', 'SAsj']\n",
    "num_action_input = len(action_input_list)\n",
    "\n",
    "action_ids = {}\n",
    "for id in range(num_action_input):\n",
    "    action_ids[action_input_list[id]] = id"
   ]
  },
  {
   "cell_type": "code",
   "execution_count": null,
   "id": "684d59f2",
   "metadata": {},
   "outputs": [],
   "source": [
    "print(action_ids)"
   ]
  },
  {
   "cell_type": "code",
   "execution_count": null,
   "id": "1d5c309a",
   "metadata": {},
   "outputs": [],
   "source": [
    "import json\n",
    "\n",
    "with open('json/action_ids.json', 'w', encoding='utf-8') as f:\n",
    "    json.dump(action_ids, f, ensure_ascii=False, indent='\\t')"
   ]
  },
  {
   "cell_type": "code",
   "execution_count": null,
   "id": "0adbe4d0",
   "metadata": {},
   "outputs": [],
   "source": [
    "state_position_list = ['field', 'wall', 'air', 'parachute']\n",
    "state_stamina_list = ['0-19', '20-39', '40-59', '60-79', '80-100']\n",
    "state_special_list = ['death', 'goal']\n",
    "\n",
    "num_state_position_list = len(state_position_list)\n",
    "num_state_stamina_list = len(state_stamina_list)\n",
    "num_state_special_list = len(state_special_list)\n",
    "\n",
    "num_state_ids = num_state_position_list * num_state_stamina_list + num_state_special_list\n",
    "\n",
    "state_ids = {}\n",
    "state_id_value = 0\n",
    "for position in state_position_list:\n",
    "    sub_state = {}\n",
    "    for stamina in state_stamina_list:\n",
    "        sub_state[stamina] = state_id_value\n",
    "        state_id_value += 1\n",
    "    state_ids[position] = sub_state\n",
    "    \n",
    "for special in state_special_list:\n",
    "    state_ids[special] = state_id_value\n",
    "    state_id_value += 1"
   ]
  },
  {
   "cell_type": "code",
   "execution_count": null,
   "id": "a6ccfd36",
   "metadata": {},
   "outputs": [],
   "source": [
    "print(state_ids)"
   ]
  },
  {
   "cell_type": "code",
   "execution_count": null,
   "id": "86067688",
   "metadata": {},
   "outputs": [],
   "source": [
    "with open('json/state_ids.json', 'w', encoding='utf-8') as f:\n",
    "    json.dump(state_ids, f, ensure_ascii=False, indent='\\t')"
   ]
  },
  {
   "cell_type": "code",
   "execution_count": null,
   "id": "a0f63498",
   "metadata": {},
   "outputs": [],
   "source": []
  },
  {
   "cell_type": "markdown",
   "id": "4fbe0e3b",
   "metadata": {},
   "source": [
    "## 불러와서 시작"
   ]
  },
  {
   "cell_type": "code",
   "execution_count": null,
   "id": "fbf96ee0",
   "metadata": {},
   "outputs": [],
   "source": [
    "import json\n",
    "\n",
    "with open('json/state_ids.json', 'r') as f:\n",
    "    state_ids = json.load(f)\n",
    "\n",
    "with open('json/action_ids.json', 'r') as f:\n",
    "    action_ids = json.load(f)\n",
    "    \n",
    "print(state_ids)\n",
    "print(len(state_ids['field']))\n",
    "\n",
    "num_states = 0\n",
    "for state in state_ids.keys():\n",
    "    if type(state_ids[state]) != int:\n",
    "        num_states += len(state_ids[state])\n",
    "    else:\n",
    "        num_states += state_ids[state]\n",
    "num_actions = len(action_ids)\n",
    "\n",
    "print(num_states, num_actions)\n",
    "print(action_ids)"
   ]
  },
  {
   "cell_type": "markdown",
   "id": "e090b831",
   "metadata": {},
   "source": [
    "## Test용 map 만들기\n",
    "Gaussian reference : https://codetorial.net/articles/normal_distribution.html"
   ]
  },
  {
   "cell_type": "code",
   "execution_count": null,
   "id": "b04422f9",
   "metadata": {},
   "outputs": [],
   "source": [
    "import math\n",
    "# a : tangent of gaussian distribution\n",
    "# mu : mean, np.array([x, y])\n",
    "# radius_x : radius of x position of mean point\n",
    "# radius_y : radius of y position of mean point\n",
    "# s_2 : variance\n",
    "map_info = np.zeros((100,100),dtype=np.float64)\n",
    "\n",
    "def gaussian(scale, mu, radius_x, radius_y, s_2):\n",
    "    global map_info\n",
    "    centre_x, centre_y = mu[0], mu[1]\n",
    "    for x in range(centre_x - radius_x, centre_x + radius_x):\n",
    "        for y in range(centre_y - radius_y, centre_y + radius_y):\n",
    "            if x < 0 or y < 0 or x >= 100 or y >= 100:\n",
    "                continue\n",
    "            X = np.array([x, y])\n",
    "            g = scale * math.pow(math.e, -np.dot(X - mu, X - mu)/pow(s_2, 2))\n",
    "            g = g if g <= 20.0 else 20.0\n",
    "            map_info[x,y] = g\n",
    "    "
   ]
  },
  {
   "cell_type": "markdown",
   "id": "b5527289",
   "metadata": {},
   "source": [
    "## For saving and loading"
   ]
  },
  {
   "cell_type": "code",
   "execution_count": 1,
   "id": "3a521a31",
   "metadata": {},
   "outputs": [
    {
     "name": "stdout",
     "output_type": "stream",
     "text": [
      "['data', 'maps']\n"
     ]
    }
   ],
   "source": [
    "import os\n",
    "\n",
    "n = os.listdir('pkl\\\\')\n",
    "print(n)"
   ]
  },
  {
   "cell_type": "code",
   "execution_count": null,
   "id": "9514f669",
   "metadata": {},
   "outputs": [],
   "source": [
    "import pickle\n",
    "\n",
    "with open('pkl/map_info_2.pkl', 'wb') as f:\n",
    "    pickle.dump(map_info, f)"
   ]
  },
  {
   "cell_type": "code",
   "execution_count": null,
   "id": "fc16e3bf",
   "metadata": {},
   "outputs": [],
   "source": [
    "import pickle\n",
    "with open('pkl/map_info_2.pkl', 'rb') as f:\n",
    "    map_info = pickle.load(f)"
   ]
  },
  {
   "cell_type": "code",
   "execution_count": null,
   "id": "fdd8c152",
   "metadata": {},
   "outputs": [],
   "source": [
    "print(map_info)"
   ]
  },
  {
   "cell_type": "code",
   "execution_count": null,
   "id": "3f88cb91",
   "metadata": {},
   "outputs": [],
   "source": [
    "x = np.random.randint(1, 100, 10)\n",
    "y = np.random.randint(1, 100, 10)\n",
    "\n",
    "for mu in zip(x, y):\n",
    "    radius_x = np.random.randint(10, 30) # 구릉의 반경 x방향\n",
    "    radius_y = np.random.randint(10, 30) # 구릉의 반경 y방향\n",
    "    s_2 = np.random.rand() + np.random.randint(8, 13) # variance. 크기가 클수록 넓은 범위가 됨\n",
    "    print(s_2)\n",
    "    g = gaussian(30, np.array(mu), radius_x, radius_y, s_2) # 20 : 최대 높이"
   ]
  },
  {
   "cell_type": "code",
   "execution_count": null,
   "id": "beb4c599",
   "metadata": {},
   "outputs": [],
   "source": [
    "from mpl_toolkits.mplot3d import axes3d\n",
    "import numpy as np\n",
    "import matplotlib.pyplot as plt\n",
    "\n",
    "\n",
    "fig = plt.figure()\n",
    "ax = fig.add_subplot(111, projection='3d')\n",
    "\n",
    "X = np.array([i for i in range(100)])\n",
    "X = np.tile(X, (100,1))\n",
    "Y = np.transpose(X)\n",
    "\n",
    "ax.plot_surface(X, Y, map_info)\n",
    "ax.set_zlim(-10, 50)\n",
    "\n",
    "plt.tight_layout()\n",
    "plt.show()"
   ]
  },
  {
   "cell_type": "markdown",
   "id": "897d9472",
   "metadata": {},
   "source": [
    "## modularization"
   ]
  },
  {
   "cell_type": "code",
   "execution_count": 1,
   "id": "206fce03",
   "metadata": {},
   "outputs": [
    {
     "name": "stdout",
     "output_type": "stream",
     "text": [
      "path insert succeeded.\n"
     ]
    }
   ],
   "source": [
    "import sys\n",
    "import pathlib\n",
    "\n",
    "user_lib_path = str(pathlib.Path().absolute())\n",
    "user_lib_path += '/py'\n",
    "\n",
    "if user_lib_path not in sys.path:\n",
    "    sys.path.insert(0, user_lib_path)\n",
    "    print('path insert succeeded.')"
   ]
  },
  {
   "cell_type": "code",
   "execution_count": 2,
   "id": "9da4ddea",
   "metadata": {},
   "outputs": [],
   "source": [
    "from map_designer import *\n",
    "from map_designer import MapDesigner as MD\n",
    "\n",
    "md = MD('pkl/maps/')"
   ]
  },
  {
   "cell_type": "code",
   "execution_count": 3,
   "id": "99990c4a",
   "metadata": {},
   "outputs": [
    {
     "name": "stdout",
     "output_type": "stream",
     "text": [
      "1/2\n"
     ]
    },
    {
     "data": {
      "image/png": "[encoded data removed]",
      "text/plain": [
       "<Figure size 432x288 with 1 Axes>"
      ]
     },
     "metadata": {
      "needs_background": "light"
     },
     "output_type": "display_data"
    },
    {
     "name": "stdout",
     "output_type": "stream",
     "text": [
      "2/2\n"
     ]
    },
    {
     "data": {
      "image/png": "[encoded data removed]",
      "text/plain": [
       "<Figure size 432x288 with 1 Axes>"
      ]
     },
     "metadata": {
      "needs_background": "light"
     },
     "output_type": "display_data"
    }
   ],
   "source": [
    "md.plot(n=2)"
   ]
  },
  {
   "cell_type": "markdown",
   "id": "fe730940",
   "metadata": {},
   "source": [
    "### (optional) more generate maps"
   ]
  },
  {
   "cell_type": "code",
   "execution_count": null,
   "id": "83d46acf",
   "metadata": {},
   "outputs": [],
   "source": [
    "for _ in range(10):\n",
    "    md.gen_gaussian_map_info()"
   ]
  },
  {
   "cell_type": "code",
   "execution_count": null,
   "id": "37c6e626",
   "metadata": {},
   "outputs": [],
   "source": [
    "md.plot(n=len(md.map_list))"
   ]
  },
  {
   "cell_type": "markdown",
   "id": "863e4dc2",
   "metadata": {},
   "source": [
    "## Save the designated maps"
   ]
  },
  {
   "cell_type": "code",
   "execution_count": null,
   "id": "45a22fc8",
   "metadata": {},
   "outputs": [],
   "source": [
    "md.save()"
   ]
  },
  {
   "cell_type": "markdown",
   "id": "af5f67aa",
   "metadata": {},
   "source": [
    "# Load state and action information"
   ]
  },
  {
   "cell_type": "code",
   "execution_count": 3,
   "id": "e50fe23d",
   "metadata": {},
   "outputs": [
    {
     "name": "stdout",
     "output_type": "stream",
     "text": [
      "{'field': {'0-19': 0, '20-39': 1, '40-59': 2, '60-79': 3, '80-100': 4}, 'wall': {'0-19': 5, '20-39': 6, '40-59': 7, '60-79': 8, '80-100': 9}, 'parachute': {'0-19': 10, '20-39': 11, '40-59': 12, '60-79': 13, '80-100': 14}, 'air': {'0-19': 15, '20-39': 16, '40-59': 17, '60-79': 18, '80-100': 19}, 'death': 20, 'goal': 21}\n",
      "5\n",
      "61 33\n",
      "{'Wait': 0, 'W': 1, 'A': 2, 'S': 3, 'D': 4, 'WA': 5, 'WD': 6, 'SD': 7, 'SA': 8, 'Ws': 9, 'As': 10, 'Ss': 11, 'Ds': 12, 'WAs': 13, 'WDs': 14, 'SDs': 15, 'SAs': 16, 'Wj': 17, 'Aj': 18, 'Sj': 19, 'Dj': 20, 'WAj': 21, 'WDj': 22, 'SDj': 23, 'SAj': 24, 'Wsj': 25, 'Asj': 26, 'Ssj': 27, 'Dsj': 28, 'WAsj': 29, 'WDsj': 30, 'SDsj': 31, 'SAsj': 32}\n"
     ]
    }
   ],
   "source": [
    "import json\n",
    "\n",
    "with open('json/state_ids.json', 'r') as f:\n",
    "    state_ids = json.load(f)\n",
    "\n",
    "with open('json/action_ids.json', 'r') as f:\n",
    "    action_ids = json.load(f)\n",
    "    \n",
    "print(state_ids)\n",
    "print(len(state_ids['field']))\n",
    "\n",
    "num_states = 0\n",
    "for state in state_ids.keys():\n",
    "    if type(state_ids[state]) != int:\n",
    "        num_states += len(state_ids[state])\n",
    "    else:\n",
    "        num_states += state_ids[state]\n",
    "num_actions = len(action_ids)\n",
    "\n",
    "print(num_states, num_actions)\n",
    "print(action_ids)"
   ]
  },
  {
   "cell_type": "code",
   "execution_count": 4,
   "id": "0ced502d",
   "metadata": {},
   "outputs": [],
   "source": [
    "from environment import *"
   ]
  },
  {
   "cell_type": "code",
   "execution_count": 5,
   "id": "34c10abf",
   "metadata": {},
   "outputs": [
    {
     "name": "stdout",
     "output_type": "stream",
     "text": [
      "[ 0.09544524  0.         -0.99543468]\n"
     ]
    }
   ],
   "source": [
    "# Agent(start_x=0.0, start_y=0.0, start_z=0.0, HP=100, stamina=100)\n",
    "my_agent = Agent(stamina=200)\n",
    "\n",
    "init_agent_dir = np.array([np.random.uniform(-1, 1), 0., np.random.uniform(-1, 1)])\n",
    "init_agent_dir = norm(init_agent_dir)\n",
    "print(init_agent_dir)\n",
    "my_agent.dir = init_agent_dir"
   ]
  },
  {
   "cell_type": "code",
   "execution_count": 6,
   "id": "85a235ce",
   "metadata": {},
   "outputs": [],
   "source": [
    "with open('pkl/data/my_agent.pkl', 'wb') as f:\n",
    "    pickle.dump(my_agent, f)"
   ]
  },
  {
   "cell_type": "code",
   "execution_count": 7,
   "id": "644fdc51",
   "metadata": {},
   "outputs": [],
   "source": [
    "with open('pkl/data/my_agent.pkl', 'rb') as f:\n",
    "    my_agent = pickle.load(f)"
   ]
  },
  {
   "cell_type": "markdown",
   "id": "314792d6",
   "metadata": {},
   "source": [
    "# Set environment"
   ]
  },
  {
   "cell_type": "code",
   "execution_count": 8,
   "id": "9b447229",
   "metadata": {},
   "outputs": [
    {
     "name": "stdout",
     "output_type": "stream",
     "text": [
      "[50.          0.09353686 50.        ]\n"
     ]
    }
   ],
   "source": [
    "goal_pos = np.array([50, md.map_list[0][50, 50], 50])\n",
    "print(goal_pos)"
   ]
  },
  {
   "cell_type": "code",
   "execution_count": 9,
   "id": "753021b6",
   "metadata": {},
   "outputs": [],
   "source": [
    "# DO NOT modify the input parameters after constructing Environment.\n",
    "my_env = Environment(agent=my_agent, map_info=md.map_list[0], goal_position=goal_pos,\n",
    "            num_states=num_states, num_actions=num_actions,\n",
    "            state_ids=state_ids, action_ids=action_ids,\n",
    "            fall_damage=10, fall_min_height=6)"
   ]
  },
  {
   "cell_type": "code",
   "execution_count": 10,
   "id": "3d9d4c96",
   "metadata": {},
   "outputs": [],
   "source": [
    "with open('pkl/data/my_env.pkl', 'wb') as f:\n",
    "    pickle.dump(my_env, f)"
   ]
  },
  {
   "cell_type": "code",
   "execution_count": 11,
   "id": "8c7570f0",
   "metadata": {},
   "outputs": [],
   "source": [
    "with open('pkl/data/my_env.pkl', 'rb') as f:\n",
    "    my_env = pickle.load(f)"
   ]
  },
  {
   "cell_type": "code",
   "execution_count": 12,
   "id": "66860626",
   "metadata": {},
   "outputs": [
    {
     "name": "stdout",
     "output_type": "stream",
     "text": [
      "1\n",
      "====================\n",
      "state:\"field\", action:\"Wait\", timestep:\"0\", reward:\"0\"\n",
      "state:\"field\", action:\"Wait\", timestep:\"0\", reward:\"-0.0\"\n",
      "state:\"field\", action:\"Ds\", timestep:\"1\", reward:\"3.576182943025202\"\n",
      "state:\"field\", action:\"SDs\", timestep:\"2\", reward:\"3.845942353250969\"\n",
      "2\n",
      "====================\n",
      "state:\"field\", action:\"Wait\", timestep:\"0\", reward:\"0\"\n",
      "state:\"field\", action:\"Wait\", timestep:\"0\", reward:\"-0.0\"\n",
      "state:\"field\", action:\"Ds\", timestep:\"1\", reward:\"3.576182943025202\"\n",
      "state:\"field\", action:\"SDs\", timestep:\"2\", reward:\"3.845942353250969\"\n",
      "state:\"field\", action:\"Wait\", timestep:\"0\", reward:\"0\"\n",
      "state:\"field\", action:\"Wait\", timestep:\"0\", reward:\"-0.0\"\n",
      "state:\"field\", action:\"Ds\", timestep:\"1\", reward:\"3.576182943025202\"\n",
      "state:\"field\", action:\"SDs\", timestep:\"2\", reward:\"3.845942353250969\"\n",
      "3\n",
      "====================\n",
      "state:\"field\", action:\"Wait\", timestep:\"0\", reward:\"0\"\n",
      "state:\"field\", action:\"Wait\", timestep:\"0\", reward:\"-0.0\"\n",
      "state:\"field\", action:\"Ds\", timestep:\"1\", reward:\"3.576182943025202\"\n",
      "state:\"field\", action:\"SDs\", timestep:\"2\", reward:\"3.845942353250969\"\n",
      "state:\"field\", action:\"Wait\", timestep:\"0\", reward:\"0\"\n",
      "state:\"field\", action:\"Wait\", timestep:\"0\", reward:\"-0.0\"\n",
      "state:\"field\", action:\"Ds\", timestep:\"1\", reward:\"3.576182943025202\"\n",
      "state:\"field\", action:\"SDs\", timestep:\"2\", reward:\"3.845942353250969\"\n",
      "state:\"field\", action:\"Wait\", timestep:\"0\", reward:\"0\"\n",
      "state:\"field\", action:\"Wait\", timestep:\"0\", reward:\"-0.0\"\n",
      "4\n",
      "====================\n",
      "state:\"field\", action:\"Wait\", timestep:\"0\", reward:\"0\"\n",
      "state:\"field\", action:\"Wait\", timestep:\"0\", reward:\"-0.0\"\n",
      "state:\"field\", action:\"Ds\", timestep:\"1\", reward:\"3.576182943025202\"\n",
      "state:\"field\", action:\"SDs\", timestep:\"2\", reward:\"3.845942353250969\"\n",
      "state:\"field\", action:\"Wait\", timestep:\"0\", reward:\"0\"\n",
      "state:\"field\", action:\"Wait\", timestep:\"0\", reward:\"-0.0\"\n",
      "state:\"field\", action:\"Ds\", timestep:\"1\", reward:\"3.576182943025202\"\n",
      "state:\"field\", action:\"SDs\", timestep:\"2\", reward:\"3.845942353250969\"\n",
      "state:\"field\", action:\"Wait\", timestep:\"0\", reward:\"0\"\n",
      "state:\"field\", action:\"Wait\", timestep:\"0\", reward:\"-0.0\"\n",
      "5\n",
      "====================\n",
      "state:\"field\", action:\"Wait\", timestep:\"0\", reward:\"0\"\n",
      "state:\"field\", action:\"Wait\", timestep:\"0\", reward:\"-0.0\"\n",
      "state:\"field\", action:\"Ds\", timestep:\"1\", reward:\"3.576182943025202\"\n",
      "state:\"field\", action:\"SDs\", timestep:\"2\", reward:\"3.845942353250969\"\n",
      "state:\"field\", action:\"Wait\", timestep:\"0\", reward:\"0\"\n",
      "state:\"field\", action:\"Wait\", timestep:\"0\", reward:\"-0.0\"\n",
      "state:\"field\", action:\"Ds\", timestep:\"1\", reward:\"3.576182943025202\"\n",
      "state:\"field\", action:\"SDs\", timestep:\"2\", reward:\"3.845942353250969\"\n",
      "state:\"field\", action:\"Wait\", timestep:\"0\", reward:\"0\"\n",
      "state:\"field\", action:\"Wait\", timestep:\"0\", reward:\"-0.0\"\n",
      "6\n",
      "====================\n",
      "state:\"field\", action:\"Wait\", timestep:\"0\", reward:\"0\"\n",
      "state:\"field\", action:\"Wait\", timestep:\"0\", reward:\"-0.0\"\n",
      "state:\"field\", action:\"Ds\", timestep:\"1\", reward:\"3.576182943025202\"\n",
      "state:\"field\", action:\"SDs\", timestep:\"2\", reward:\"3.845942353250969\"\n",
      "state:\"field\", action:\"Wait\", timestep:\"0\", reward:\"0\"\n",
      "state:\"field\", action:\"Wait\", timestep:\"0\", reward:\"-0.0\"\n",
      "state:\"field\", action:\"Ds\", timestep:\"1\", reward:\"3.576182943025202\"\n",
      "state:\"field\", action:\"SDs\", timestep:\"2\", reward:\"3.845942353250969\"\n",
      "state:\"field\", action:\"Wait\", timestep:\"0\", reward:\"0\"\n",
      "state:\"field\", action:\"Wait\", timestep:\"0\", reward:\"-0.0\"\n",
      "7\n",
      "====================\n",
      "state:\"field\", action:\"Wait\", timestep:\"0\", reward:\"0\"\n",
      "state:\"field\", action:\"Wait\", timestep:\"0\", reward:\"-0.0\"\n",
      "state:\"field\", action:\"Ds\", timestep:\"1\", reward:\"3.576182943025202\"\n",
      "state:\"field\", action:\"SDs\", timestep:\"2\", reward:\"3.845942353250969\"\n",
      "state:\"field\", action:\"Wait\", timestep:\"0\", reward:\"0\"\n",
      "state:\"field\", action:\"Wait\", timestep:\"0\", reward:\"-0.0\"\n",
      "state:\"field\", action:\"Ds\", timestep:\"1\", reward:\"3.576182943025202\"\n",
      "state:\"field\", action:\"SDs\", timestep:\"2\", reward:\"3.845942353250969\"\n",
      "state:\"field\", action:\"Wait\", timestep:\"0\", reward:\"0\"\n",
      "state:\"field\", action:\"Wait\", timestep:\"0\", reward:\"-0.0\"\n",
      "8\n",
      "====================\n",
      "state:\"field\", action:\"Wait\", timestep:\"0\", reward:\"0\"\n",
      "state:\"field\", action:\"Wait\", timestep:\"0\", reward:\"-0.0\"\n",
      "state:\"field\", action:\"Ds\", timestep:\"1\", reward:\"3.576182943025202\"\n",
      "state:\"field\", action:\"SDs\", timestep:\"2\", reward:\"3.845942353250969\"\n",
      "state:\"field\", action:\"Wait\", timestep:\"0\", reward:\"0\"\n",
      "state:\"field\", action:\"Wait\", timestep:\"0\", reward:\"-0.0\"\n",
      "state:\"field\", action:\"Ds\", timestep:\"1\", reward:\"3.576182943025202\"\n",
      "state:\"field\", action:\"SDs\", timestep:\"2\", reward:\"3.845942353250969\"\n",
      "state:\"field\", action:\"Wait\", timestep:\"0\", reward:\"0\"\n",
      "state:\"field\", action:\"Wait\", timestep:\"0\", reward:\"-0.0\"\n",
      "9\n",
      "====================\n",
      "state:\"field\", action:\"Wait\", timestep:\"0\", reward:\"0\"\n",
      "state:\"field\", action:\"Wait\", timestep:\"0\", reward:\"-0.0\"\n",
      "state:\"field\", action:\"Ds\", timestep:\"1\", reward:\"3.576182943025202\"\n",
      "state:\"field\", action:\"SDs\", timestep:\"2\", reward:\"3.845942353250969\"\n",
      "state:\"field\", action:\"Wait\", timestep:\"0\", reward:\"0\"\n",
      "state:\"field\", action:\"Wait\", timestep:\"0\", reward:\"-0.0\"\n",
      "state:\"field\", action:\"Ds\", timestep:\"1\", reward:\"3.576182943025202\"\n",
      "state:\"field\", action:\"SDs\", timestep:\"2\", reward:\"3.845942353250969\"\n",
      "state:\"field\", action:\"Wait\", timestep:\"0\", reward:\"0\"\n",
      "state:\"field\", action:\"Wait\", timestep:\"0\", reward:\"-0.0\"\n"
     ]
    }
   ],
   "source": [
    "trajectories = my_env.make_scenarios()"
   ]
  },
  {
   "cell_type": "code",
   "execution_count": 11,
   "id": "61edb4d7",
   "metadata": {},
   "outputs": [
    {
     "name": "stdout",
     "output_type": "stream",
     "text": [
      "9\n"
     ]
    }
   ],
   "source": [
    "print(len(trajectories))\n"
   ]
  },
  {
   "cell_type": "markdown",
   "id": "80355a62",
   "metadata": {},
   "source": [
    "## 잘 됐다고 가정  \n",
    "my_env.dataset: list of scenarios. each scenario is list of [rtg, state.no, action.action_id]\n",
    "rtg와 reward 둘 다 저장해야 할 수도 있음."
   ]
  },
  {
   "cell_type": "raw",
   "id": "20bbe4e2",
   "metadata": {},
   "source": [
    "# R, s, a, t: returns-to-go, states, actions, and timesteps\n",
    "# transformer: transformer with causal masking (GPT)\n",
    "# embed_s, embed_a, embed_R: linear embedding layers\n",
    "# pred_a: linear action prediction layer\n",
    "\n",
    "# main model\n",
    "def DecisionTransformer(R, s, a, t):\n",
    "    # compute embeddings for tokens\n",
    "    pos_embedding = embed_t(t)    # per-timestep (note: not per-token)"
   ]
  },
  {
   "cell_type": "markdown",
   "id": "621e8c90",
   "metadata": {},
   "source": [
    "# Hyperparameters"
   ]
  },
  {
   "cell_type": "code",
   "execution_count": null,
   "id": "74ad7851",
   "metadata": {},
   "outputs": [],
   "source": [
    "import argparse\n",
    "\n",
    "parser = argparse.ArgumentParser()\n",
    "#parser.add_argument('--env', type=str, default='hopper')\n",
    "#parser.add_argument('--dataset', type=str, default='medium')  # medium, medium-replay, medium-expert, expert\n",
    "parser.add_argument('--mode', type=str, default='normal')  # normal for standard setting, delayed for sparse\n",
    "parser.add_argument('--K', type=int, default=20)\n",
    "parser.add_argument('--pct_traj', type=float, default=1.)\n",
    "parser.add_argument('--batch_size', type=int, default=64)\n",
    "parser.add_argument('--model_type', type=str, default='dt')  # dt for decision transformer, bc for behavior cloning\n",
    "parser.add_argument('--embed_dim', type=int, default=128)\n",
    "parser.add_argument('--n_layer', type=int, default=3)\n",
    "parser.add_argument('--n_head', type=int, default=1)\n",
    "parser.add_argument('--activation_function', type=str, default='relu')\n",
    "parser.add_argument('--dropout', type=float, default=0.1)\n",
    "parser.add_argument('--learning_rate', '-lr', type=float, default=1e-4)\n",
    "parser.add_argument('--weight_decay', '-wd', type=float, default=1e-4)\n",
    "parser.add_argument('--warmup_steps', type=int, default=10000)\n",
    "parser.add_argument('--num_eval_episodes', type=int, default=100)\n",
    "parser.add_argument('--max_iters', type=int, default=10)\n",
    "parser.add_argument('--num_steps_per_iter', type=int, default=10000)\n",
    "parser.add_argument('--device', type=str, default='cuda')\n",
    "parser.add_argument('--log_to_wandb', '-w', type=bool, default=False)\n",
    "\n",
    "args = parser.parse_args()\n",
    "variant = vars(args)"
   ]
  },
  {
   "cell_type": "code",
   "execution_count": null,
   "id": "d8fe9a72",
   "metadata": {},
   "outputs": [],
   "source": [
    "device = variant.get('device', 'cuda')\n",
    "\n",
    "state_dim = 4           # State class의 instance 수\n",
    "act_dim = 5             # Action class의 instance 수\n",
    "max_ep_len = 500\n",
    "\n",
    "K = variant['K']\n",
    "batch_size = variant['batch_size']\n",
    "num_eval_episodes = variant['num_eval_episodes']\n",
    "pct_traj = variant.get('pct_traj', 1.)\n",
    "\n",
    "scale = 10\n",
    "\n",
    "states = []\n",
    "for state in state_ids.keys():\n",
    "    if type(state_ids[state]) != int:\n",
    "        for val in state_ids[state]:\n",
    "            states.append(val)\n",
    "    else:\n",
    "        states.append(state_ids[state])\n",
    "        \n",
    "states = np.concatenate(np.array(states), axis=0)\n",
    "state_mean, state_std = np.mean(states, axis=0), np.std(states, axis=0) + 1e-6"
   ]
  },
  {
   "cell_type": "markdown",
   "id": "7a2b5943",
   "metadata": {},
   "source": [
    "## batch construction"
   ]
  },
  {
   "cell_type": "code",
   "execution_count": null,
   "id": "78321be5",
   "metadata": {},
   "outputs": [],
   "source": [
    "# save all path information into separate lists\n",
    "mode = variant.get('mode', 'normal')\n",
    "states, traj_lens, returns = [], [], []\n",
    "for path in trajectories:\n",
    "    if mode == 'delayed':  # delayed: all rewards moved to end of trajectory\n",
    "        path['rewards'][-1] = path['rewards'].sum()\n",
    "        path['rewards'][:-1] = 0.\n",
    "    states.append(path['observations'])\n",
    "    traj_lens.append(len(path['observations']))\n",
    "    returns.append(path['rewards'].sum())\n",
    "traj_lens, returns = np.array(traj_lens), np.array(returns)\n",
    "\n",
    "# used for input normalization\n",
    "states = np.concatenate(states, axis=0)\n",
    "state_mean, state_std = np.mean(states, axis=0), np.std(states, axis=0) + 1e-6\n",
    "\n",
    "num_timesteps = sum(traj_lens)\n",
    "env_name = 'experiment1'\n",
    "\n",
    "print('=' * 50)\n",
    "print(f'Starting new experiment: {env_name}')\n",
    "print(f'{len(traj_lens)} trajectories, {num_timesteps} timesteps found')\n",
    "print(f'Average return: {np.mean(returns):.2f}, std: {np.std(returns):.2f}')\n",
    "print(f'Max return: {np.max(returns):.2f}, min: {np.min(returns):.2f}')\n",
    "print('=' * 50)\n",
    "\n",
    "K = variant['K']\n",
    "batch_size = variant['batch_size']\n",
    "num_eval_episodes = variant['num_eval_episodes']\n",
    "pct_traj = variant.get('pct_traj', 1.)\n",
    "\n",
    "# only train on top pct_traj trajectories (for %BC experiment)\n",
    "num_timesteps = max(int(pct_traj*num_timesteps), 1)\n",
    "sorted_inds = np.argsort(returns)  # lowest to highest\n",
    "num_trajectories = 1\n",
    "timesteps = traj_lens[sorted_inds[-1]]\n",
    "ind = len(trajectories) - 2\n",
    "while ind >= 0 and timesteps + traj_lens[sorted_inds[ind]] < num_timesteps:\n",
    "    timesteps += traj_lens[sorted_inds[ind]]\n",
    "    num_trajectories += 1\n",
    "    ind -= 1\n",
    "sorted_inds = sorted_inds[-num_trajectories:]\n",
    "\n",
    "# used to reweight sampling so we sample according to timesteps instead of trajectories\n",
    "p_sample = traj_lens[sorted_inds] / sum(traj_lens[sorted_inds])"
   ]
  },
  {
   "cell_type": "code",
   "execution_count": null,
   "id": "f2998fe5",
   "metadata": {},
   "outputs": [],
   "source": [
    "import random\n",
    "\n",
    "def discount_cumsum(x, gamma):\n",
    "    discount_cumsum = np.zeros_like(x)\n",
    "    discount_cumsum[-1] = x[-1]\n",
    "    for t in reversed(range(x.shape[0]-1)):\n",
    "        discount_cumsum[t] = x[t] + gamma * discount_cumsum[t+1]\n",
    "    return discount_cumsum\n",
    "\n",
    "def get_batch(batch_size=256, max_len=K):\n",
    "    # \n",
    "    batch_inds = np.random.choice(\n",
    "        np.arange(num_trajectories),\n",
    "        size=batch_size,\n",
    "        replace=True,\n",
    "        p=p_sample,  # reweights so we sample according to timesteps\n",
    "    )\n",
    "    s, a, r, d, rtg, timesteps, mask = [], [], [], [], [], [], []\n",
    "    for i in range(batch_size):\n",
    "        traj = trajectories[int(sorted_inds[batch_inds[i]])] # one scene\n",
    "        si = random.randint(0, traj['rewards'].shape[0] - 1)\n",
    "\n",
    "        # get sequences from dataset\n",
    "        s.append(traj['observations'][si:si + max_len].reshape(1, -1, state_dim))\n",
    "        a.append(traj['actions'][si:si + max_len].reshape(1, -1, act_dim))\n",
    "        r.append(traj['rewards'][si:si + max_len].reshape(1, -1, 1))\n",
    "        if 'terminals' in traj:\n",
    "            d.append(traj['terminals'][si:si + max_len].reshape(1, -1))\n",
    "        else:\n",
    "            d.append(traj['dones'][si:si + max_len].reshape(1, -1))\n",
    "        timesteps.append(np.arange(si, si + s[-1].shape[1]).reshape(1, -1))\n",
    "        timesteps[-1][timesteps[-1] >= max_ep_len] = max_ep_len-1  # padding cutoff\n",
    "        rtg.append(discount_cumsum(traj['rewards'][si:], gamma=1.)[:s[-1].shape[1] + 1].reshape(1, -1, 1))  # calculate return-to-go\n",
    "        if rtg[-1].shape[1] <= s[-1].shape[1]:\n",
    "            rtg[-1] = np.concatenate([rtg[-1], np.zeros((1, 1, 1))], axis=1)\n",
    "\n",
    "        # padding and state + reward normalization\n",
    "        tlen = s[-1].shape[1]\n",
    "        s[-1] = np.concatenate([np.zeros((1, max_len - tlen, state_dim)), s[-1]], axis=1)\n",
    "        s[-1] = (s[-1] - state_mean) / state_std\n",
    "        a[-1] = np.concatenate([np.ones((1, max_len - tlen, act_dim)) * -10., a[-1]], axis=1)\n",
    "        r[-1] = np.concatenate([np.zeros((1, max_len - tlen, 1)), r[-1]], axis=1)\n",
    "        d[-1] = np.concatenate([np.ones((1, max_len - tlen)) * 2, d[-1]], axis=1)\n",
    "        rtg[-1] = np.concatenate([np.zeros((1, max_len - tlen, 1)), rtg[-1]], axis=1) / scale\n",
    "        timesteps[-1] = np.concatenate([np.zeros((1, max_len - tlen)), timesteps[-1]], axis=1)\n",
    "        mask.append(np.concatenate([np.zeros((1, max_len - tlen)), np.ones((1, tlen))], axis=1))\n",
    "\n",
    "    s = torch.from_numpy(np.concatenate(s, axis=0)).to(dtype=torch.float32, device=device)\n",
    "    a = torch.from_numpy(np.concatenate(a, axis=0)).to(dtype=torch.float32, device=device)\n",
    "    r = torch.from_numpy(np.concatenate(r, axis=0)).to(dtype=torch.float32, device=device)\n",
    "    d = torch.from_numpy(np.concatenate(d, axis=0)).to(dtype=torch.long, device=device)\n",
    "    rtg = torch.from_numpy(np.concatenate(rtg, axis=0)).to(dtype=torch.float32, device=device)\n",
    "    timesteps = torch.from_numpy(np.concatenate(timesteps, axis=0)).to(dtype=torch.long, device=device)\n",
    "    mask = torch.from_numpy(np.concatenate(mask, axis=0)).to(device=device)\n",
    "\n",
    "    return s, a, r, d, rtg, timesteps, mask"
   ]
  },
  {
   "cell_type": "code",
   "execution_count": null,
   "id": "f10c5c4e",
   "metadata": {},
   "outputs": [],
   "source": [
    "from py.evaluate_episodes import *\n",
    "\n",
    "# TODO: env=my_env에서, my_env를 arg로 받아서 차례대로 넘겨주게끔 작성\n",
    "# target_rew 2개 당 1개의 env가 매핑되도록\n",
    "def eval_episodes(target_rew, env):\n",
    "    def fn(model):\n",
    "        returns, lengths = [], []\n",
    "        for _ in range(num_eval_episodes):\n",
    "            with torch.no_grad():\n",
    "                ret, length = evaluate_episode_rtg(\n",
    "                    env=env,\n",
    "                    state_dim=state_dim,\n",
    "                    act_dim=act_dim,\n",
    "                    model=model,\n",
    "                    max_ep_len=max_ep_len,\n",
    "                    scale=scale,\n",
    "                    target_return=target_rew/scale,\n",
    "                    mode=mode,\n",
    "                    state_mean=state_mean,\n",
    "                    state_std=state_std,\n",
    "                    device=device,\n",
    "                )\n",
    "            returns.append(ret)\n",
    "            lengths.append(length)\n",
    "        return {\n",
    "            f'target_{target_rew}_return_mean': np.mean(returns),\n",
    "            f'target_{target_rew}_return_std': np.std(returns),\n",
    "            f'target_{target_rew}_length_mean': np.mean(lengths),\n",
    "            f'target_{target_rew}_length_std': np.std(lengths),\n",
    "        }\n",
    "    return fn"
   ]
  },
  {
   "cell_type": "markdown",
   "id": "f8e3897c",
   "metadata": {},
   "source": [
    "## Model construction"
   ]
  },
  {
   "cell_type": "code",
   "execution_count": null,
   "id": "55feb386",
   "metadata": {},
   "outputs": [],
   "source": [
    "from py.decision_transformer import DecisionTransformer\n",
    "\n",
    "model = DecisionTransformer(\n",
    "    state_dim=state_dim,\n",
    "    act_dim=act_dim,\n",
    "    max_length=K,\n",
    "    max_ep_len=max_ep_len,\n",
    "    hidden_size=variant['embed_dim'],\n",
    "    n_layer=variant['n_layer'],\n",
    "    n_head=variant['n_head'],\n",
    "    n_inner=4*variant['embed_dim'],\n",
    "    activation_function=variant['activation_function'],\n",
    "    n_positions=1024,\n",
    "    resid_pdrop=variant['dropout'],\n",
    "    attn_pdrop=variant['dropout'],\n",
    ")\n",
    "\n",
    "model = model.to(device=device)\n",
    "warmup_steps = variant['warmup_steps']\n",
    "optimizer = torch.optim.AdamW(\n",
    "    model.parameters(),\n",
    "    lr=variant['learning_rate'],\n",
    "    weight_decay=variant['weight_decay'],\n",
    ")\n",
    "scheduler = torch.optim.lr_scheduler.LambdaLR(\n",
    "    optimizer,\n",
    "    lambda steps: min((steps+1)/warmup_steps, 1)\n",
    ")"
   ]
  },
  {
   "cell_type": "code",
   "execution_count": null,
   "id": "9debcf8e",
   "metadata": {},
   "outputs": [],
   "source": [
    "from py.seq_trainer import SequenceTrainer\n",
    "\n",
    "env_targets = [500, 256] # time steps to observe\n",
    "len_env_targets = len(env_targets)\n",
    "env_list = []\n",
    "num_env = 1\n",
    "for _ in range(num_env):\n",
    "    # env = blabla\n",
    "    for _ in range(len_env_targets):\n",
    "        env_list.append(my_env)\n",
    "\n",
    "trainer = SequenceTrainer(\n",
    "    model=model,\n",
    "    optimizer=optimizer,\n",
    "    batch_size=batch_size,\n",
    "    get_batch=get_batch,\n",
    "    scheduler=scheduler,\n",
    "    loss_fn=lambda s_hat, a_hat, r_hat, s, a, r: torch.mean((a_hat - a)**2),\n",
    "    eval_fns=[eval_episodes(tar, env) for tar, env in zip(env_targets, env_list)],\n",
    ")"
   ]
  },
  {
   "cell_type": "markdown",
   "id": "2d77a349",
   "metadata": {},
   "source": [
    "# Learning"
   ]
  },
  {
   "cell_type": "code",
   "execution_count": 1,
   "id": "992fae4e",
   "metadata": {},
   "outputs": [
    {
     "name": "stdout",
     "output_type": "stream",
     "text": [
      "[[[0.]]]\n"
     ]
    }
   ],
   "source": [
    "import wandb\n",
    "\n",
    "log_to_wandb = variant.get('log_to_wandb', False)\n",
    "exp_prefix = '3DPFg-experiment'\n",
    "group_name = f'{exp_prefix}-{env_name}'     #f'{exp_prefix}-{env_name}-{dataset}'\n",
    "exp_prefix = f'{group_name}-{random.randint(int(1e5), int(1e6) - 1)}'\n",
    "if log_to_wandb:\n",
    "    wandb.init(\n",
    "        name=exp_prefix,\n",
    "        group=group_name,\n",
    "        project='decision-transformer',\n",
    "        config=variant\n",
    "    )\n",
    "    # wandb.watch(model)  # wandb has some bug\n",
    "\n",
    "for iter in range(variant['max_iters']):\n",
    "    outputs = trainer.train_iteration(num_steps=variant['num_steps_per_iter'], iter_num=iter+1, print_logs=True)\n",
    "    if log_to_wandb:\n",
    "        wandb.log(outputs)"
   ]
  },
  {
   "cell_type": "markdown",
   "id": "3f35ae91",
   "metadata": {},
   "source": [
    "# Evaluation\n",
    "직접 predict를 찍어보면서 관찰하자  \n",
    "이를테면, map_info를 N개 학습했을 때, 다른 test set map과 그에 상응하는 environment object들을 만들어 states, actions, rewards, rtg ... 를 구하여 action pred를 구하면 된다."
   ]
  },
  {
   "cell_type": "code",
   "execution_count": null,
   "id": "e4157941",
   "metadata": {},
   "outputs": [],
   "source": [
    "# in decision_transformer.py,\n",
    "# get_action(self, states, actions, rewards, returns_to_go, timesteps, **kwargs)\n",
    "\n",
    "action_pred = model.get_action(states, actions, rewards, returns_to_go, timesteps)"
   ]
  }
 ],
 "metadata": {
  "interpreter": {
   "hash": "aac889bf67e0b8365cbee6a397fe234a18ddd012829ae3bc91d807bda0839d30"
  },
  "kernelspec": {
   "display_name": "Python 3.8.11 64-bit ('jolp': conda)",
   "name": "python3"
  },
  "language_info": {
   "codemirror_mode": {
    "name": "ipython",
    "version": 3
   },
   "file_extension": ".py",
   "mimetype": "text/x-python",
   "name": "python",
   "nbconvert_exporter": "python",
   "pygments_lexer": "ipython3",
   "version": "3.8.11"
  }
 },
 "nbformat": 4,
 "nbformat_minor": 5
}
