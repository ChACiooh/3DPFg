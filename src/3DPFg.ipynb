{
 "cells": [
  {
   "cell_type": "code",
   "execution_count": 2,
   "id": "37cf6988",
   "metadata": {},
   "outputs": [
    {
     "name": "stdout",
     "output_type": "stream",
     "text": [
      "Collecting numpy\n",
      "  Using cached numpy-1.21.2-cp38-cp38-win_amd64.whl (14.0 MB)\n",
      "Installing collected packages: numpy\n",
      "Successfully installed numpy-1.21.2\n"
     ]
    }
   ],
   "source": [
    "!pip install numpy"
   ]
  },
  {
   "cell_type": "code",
   "execution_count": 3,
   "id": "dc9bd197",
   "metadata": {},
   "outputs": [
    {
     "name": "stdout",
     "output_type": "stream",
     "text": [
      "Collecting transformers\n",
      "  Using cached transformers-4.10.0-py3-none-any.whl (2.8 MB)\n",
      "Collecting regex!=2019.12.17\n",
      "  Downloading regex-2021.8.28-cp38-cp38-win_amd64.whl (271 kB)\n",
      "Requirement already satisfied: packaging in d:\\anaconda3\\envs\\jolp\\lib\\site-packages (from transformers) (21.0)\n",
      "Collecting huggingface-hub>=0.0.12\n",
      "  Using cached huggingface_hub-0.0.16-py3-none-any.whl (50 kB)\n",
      "Collecting requests\n",
      "  Using cached requests-2.26.0-py2.py3-none-any.whl (62 kB)\n",
      "Collecting tokenizers<0.11,>=0.10.1\n",
      "  Using cached tokenizers-0.10.3-cp38-cp38-win_amd64.whl (2.0 MB)\n",
      "Collecting filelock\n",
      "  Using cached filelock-3.0.12-py3-none-any.whl (7.6 kB)\n",
      "Collecting pyyaml>=5.1\n",
      "  Downloading PyYAML-5.4.1-cp38-cp38-win_amd64.whl (213 kB)\n",
      "Requirement already satisfied: numpy>=1.17 in d:\\anaconda3\\envs\\jolp\\lib\\site-packages (from transformers) (1.21.2)\n",
      "Collecting tqdm>=4.27\n",
      "  Using cached tqdm-4.62.2-py2.py3-none-any.whl (76 kB)\n",
      "Collecting sacremoses\n",
      "  Using cached sacremoses-0.0.45-py3-none-any.whl (895 kB)\n",
      "Collecting typing-extensions\n",
      "  Downloading typing_extensions-3.10.0.2-py3-none-any.whl (26 kB)\n",
      "Requirement already satisfied: pyparsing>=2.0.2 in d:\\anaconda3\\envs\\jolp\\lib\\site-packages (from packaging->transformers) (2.4.7)\n",
      "Requirement already satisfied: colorama in d:\\anaconda3\\envs\\jolp\\lib\\site-packages (from tqdm>=4.27->transformers) (0.4.4)\n",
      "Requirement already satisfied: certifi>=2017.4.17 in d:\\anaconda3\\envs\\jolp\\lib\\site-packages (from requests->transformers) (2021.5.30)\n",
      "Collecting idna<4,>=2.5\n",
      "  Using cached idna-3.2-py3-none-any.whl (59 kB)\n",
      "Collecting charset-normalizer~=2.0.0\n",
      "  Using cached charset_normalizer-2.0.4-py3-none-any.whl (36 kB)\n",
      "Collecting urllib3<1.27,>=1.21.1\n",
      "  Using cached urllib3-1.26.6-py2.py3-none-any.whl (138 kB)\n",
      "Requirement already satisfied: six in d:\\anaconda3\\envs\\jolp\\lib\\site-packages (from sacremoses->transformers) (1.16.0)\n",
      "Collecting click\n",
      "  Using cached click-8.0.1-py3-none-any.whl (97 kB)\n",
      "Collecting joblib\n",
      "  Using cached joblib-1.0.1-py3-none-any.whl (303 kB)\n",
      "Installing collected packages: urllib3, idna, charset-normalizer, typing-extensions, tqdm, requests, regex, joblib, filelock, click, tokenizers, sacremoses, pyyaml, huggingface-hub, transformers\n",
      "Successfully installed charset-normalizer-2.0.4 click-8.0.1 filelock-3.0.12 huggingface-hub-0.0.16 idna-3.2 joblib-1.0.1 pyyaml-5.4.1 regex-2021.8.28 requests-2.26.0 sacremoses-0.0.45 tokenizers-0.10.3 tqdm-4.62.2 transformers-4.10.0 typing-extensions-3.10.0.2 urllib3-1.26.6\n"
     ]
    }
   ],
   "source": [
    "!pip install transformers"
   ]
  },
  {
   "cell_type": "code",
   "execution_count": 5,
   "id": "6e925957",
   "metadata": {},
   "outputs": [
    {
     "name": "stdout",
     "output_type": "stream",
     "text": [
      "Collecting torch\n",
      "  Using cached torch-1.9.0-cp38-cp38-win_amd64.whl (222.0 MB)\n",
      "Requirement already satisfied: typing-extensions in d:\\anaconda3\\envs\\jolp\\lib\\site-packages (from torch) (3.10.0.2)\n",
      "Installing collected packages: torch\n",
      "Successfully installed torch-1.9.0\n"
     ]
    }
   ],
   "source": [
    "!pip install torch"
   ]
  },
  {
   "cell_type": "code",
   "execution_count": 1,
   "id": "c3c9d698",
   "metadata": {},
   "outputs": [],
   "source": [
    "import numpy as np\n",
    "import torch\n",
    "import torch.nn as nn\n",
    "\n",
    "import transformers"
   ]
  },
  {
   "cell_type": "code",
   "execution_count": 2,
   "id": "a5df259e",
   "metadata": {},
   "outputs": [],
   "source": [
    "state, action, return_to_go = [], [], []"
   ]
  },
  {
   "cell_type": "code",
   "execution_count": 3,
   "id": "6c92be55",
   "metadata": {},
   "outputs": [],
   "source": [
    "time_step = []"
   ]
  },
  {
   "cell_type": "code",
   "execution_count": 4,
   "id": "f3f96406",
   "metadata": {},
   "outputs": [],
   "source": [
    "num_actions = 34\n",
    "num_states = 8 * 5 + 2"
   ]
  },
  {
   "cell_type": "markdown",
   "id": "9332ddb6",
   "metadata": {},
   "source": [
    "## 노가다 작업은 json으로 미리 저장하기"
   ]
  },
  {
   "cell_type": "code",
   "execution_count": 5,
   "id": "ad1083c6",
   "metadata": {},
   "outputs": [],
   "source": [
    "import json"
   ]
  },
  {
   "cell_type": "code",
   "execution_count": 6,
   "id": "cfae6beb",
   "metadata": {},
   "outputs": [],
   "source": [
    "action_input_list = ['Wait', 'W', 'A', 'S', 'D',\n",
    "                     'WA', 'WD', 'SD', 'SA',\n",
    "                     'Ws', 'As', 'Ss', 'Ds',\n",
    "                     'WAs', 'WDs', 'SDs', 'SAs',\n",
    "                     'Wj', 'Aj', 'Sj', 'Dj',\n",
    "                     'WAj', 'WDj', 'SDj', 'SAj',\n",
    "                     'Wsj', 'Asj', 'Ssj', 'Dsj',\n",
    "                     'WAsj', 'WDsj', 'SDsj', 'SAsj']\n",
    "num_action_input = len(action_input_list)"
   ]
  },
  {
   "cell_type": "code",
   "execution_count": 7,
   "id": "c13f464e",
   "metadata": {},
   "outputs": [],
   "source": [
    "action_ids = {}\n",
    "for id in range(num_action_input):\n",
    "    action_ids[action_input_list[id]] = id"
   ]
  },
  {
   "cell_type": "code",
   "execution_count": 8,
   "id": "df8480fe",
   "metadata": {},
   "outputs": [
    {
     "name": "stdout",
     "output_type": "stream",
     "text": [
      "{'Wait': 0, 'W': 1, 'A': 2, 'S': 3, 'D': 4, 'WA': 5, 'WD': 6, 'SD': 7, 'SA': 8, 'Ws': 9, 'As': 10, 'Ss': 11, 'Ds': 12, 'WAs': 13, 'WDs': 14, 'SDs': 15, 'SAs': 16, 'Wj': 17, 'Aj': 18, 'Sj': 19, 'Dj': 20, 'WAj': 21, 'WDj': 22, 'SDj': 23, 'SAj': 24, 'Wsj': 25, 'Asj': 26, 'Ssj': 27, 'Dsj': 28, 'WAsj': 29, 'WDsj': 30, 'SDsj': 31, 'SAsj': 32}\n"
     ]
    }
   ],
   "source": [
    "print(action_ids)"
   ]
  },
  {
   "cell_type": "code",
   "execution_count": 23,
   "id": "1dd1b6e9",
   "metadata": {},
   "outputs": [],
   "source": [
    "with open('json/action_ids.json', 'w', encoding='utf-8') as f:\n",
    "    json.dump(action_ids, f, ensure_ascii=False, indent='\\t')"
   ]
  },
  {
   "cell_type": "code",
   "execution_count": 9,
   "id": "82e6a7ed",
   "metadata": {},
   "outputs": [],
   "source": [
    "state_position_list = ['field', 'wall', 'lowair', 'highair']\n",
    "state_stamina_list = ['0-19', '20-39', '40-59', '60-79', '80-100']\n",
    "state_special_list = ['death', 'goal']\n",
    "\n",
    "num_state_position_list = len(state_position_list)\n",
    "num_state_stamina_list = len(state_stamina_list)\n",
    "num_state_special_list = len(state_special_list)\n",
    "\n",
    "num_state_ids = num_state_position_list * num_state_stamina_list + num_state_special_list"
   ]
  },
  {
   "cell_type": "code",
   "execution_count": 10,
   "id": "d61c4416",
   "metadata": {},
   "outputs": [],
   "source": [
    "state_ids = {}\n",
    "state_id_value = 0\n",
    "for position in state_position_list:\n",
    "    sub_state = {}\n",
    "    for stamina in state_stamina_list:\n",
    "        sub_state[stamina] = state_id_value\n",
    "        state_id_value += 1\n",
    "    state_ids[position] = sub_state\n",
    "    \n",
    "for special in state_special_list:\n",
    "    state_ids[special] = state_id_value\n",
    "    state_id_value += 1"
   ]
  },
  {
   "cell_type": "code",
   "execution_count": 11,
   "id": "c33ae898",
   "metadata": {},
   "outputs": [
    {
     "name": "stdout",
     "output_type": "stream",
     "text": [
      "{'field': {'0-19': 0, '20-39': 1, '40-59': 2, '60-79': 3, '80-100': 4}, 'wall': {'0-19': 5, '20-39': 6, '40-59': 7, '60-79': 8, '80-100': 9}, 'lowair': {'0-19': 10, '20-39': 11, '40-59': 12, '60-79': 13, '80-100': 14}, 'highair': {'0-19': 15, '20-39': 16, '40-59': 17, '60-79': 18, '80-100': 19}, 'death': 20, 'goal': 21}\n"
     ]
    }
   ],
   "source": [
    "print(state_ids)"
   ]
  },
  {
   "cell_type": "code",
   "execution_count": 34,
   "id": "b34c2558",
   "metadata": {},
   "outputs": [],
   "source": [
    "with open('json/state_ids.json', 'w', encoding='utf-8') as f:\n",
    "    json.dump(state_ids, f, ensure_ascii=False, indent='\\t')"
   ]
  },
  {
   "cell_type": "code",
   "execution_count": null,
   "id": "7fe7430c",
   "metadata": {},
   "outputs": [],
   "source": []
  },
  {
   "cell_type": "markdown",
   "id": "b61716ff",
   "metadata": {},
   "source": [
    "## 불러와서 시작"
   ]
  },
  {
   "cell_type": "code",
   "execution_count": 1,
   "id": "8a5b6a23",
   "metadata": {},
   "outputs": [],
   "source": [
    "import json"
   ]
  },
  {
   "cell_type": "code",
   "execution_count": 2,
   "id": "558e8fef",
   "metadata": {},
   "outputs": [],
   "source": [
    "with open('json/state_ids.json', 'r') as f:\n",
    "    state_ids = json.load(f)"
   ]
  },
  {
   "cell_type": "code",
   "execution_count": 3,
   "id": "afb1bf85",
   "metadata": {},
   "outputs": [
    {
     "data": {
      "text/plain": [
       "{'field': {'0-19': 0, '20-39': 1, '40-59': 2, '60-79': 3, '80-100': 4},\n",
       " 'wall': {'0-19': 5, '20-39': 6, '40-59': 7, '60-79': 8, '80-100': 9},\n",
       " 'lowair': {'0-19': 10, '20-39': 11, '40-59': 12, '60-79': 13, '80-100': 14},\n",
       " 'highair': {'0-19': 15, '20-39': 16, '40-59': 17, '60-79': 18, '80-100': 19},\n",
       " 'death': 20,\n",
       " 'goal': 21}"
      ]
     },
     "execution_count": 3,
     "metadata": {},
     "output_type": "execute_result"
    }
   ],
   "source": [
    "state_ids"
   ]
  },
  {
   "cell_type": "code",
   "execution_count": 4,
   "id": "9e34ee00",
   "metadata": {},
   "outputs": [],
   "source": [
    "with open('json/action_ids.json', 'r') as f:\n",
    "    action_ids = json.load(f)"
   ]
  },
  {
   "cell_type": "code",
   "execution_count": 12,
   "id": "50938997",
   "metadata": {},
   "outputs": [
    {
     "data": {
      "text/plain": [
       "5"
      ]
     },
     "execution_count": 12,
     "metadata": {},
     "output_type": "execute_result"
    }
   ],
   "source": [
    "len(state_ids['field'])"
   ]
  },
  {
   "cell_type": "code",
   "execution_count": 13,
   "id": "2c378025",
   "metadata": {},
   "outputs": [
    {
     "name": "stdout",
     "output_type": "stream",
     "text": [
      "61 33\n"
     ]
    }
   ],
   "source": [
    "num_states = 0\n",
    "for state in state_ids.keys():\n",
    "    if type(state_ids[state]) != int:\n",
    "        num_states += len(state_ids[state])\n",
    "    else:\n",
    "        num_states += state_ids[state]\n",
    "num_actions = len(action_ids)\n",
    "\n",
    "print(num_states, num_actions)"
   ]
  },
  {
   "cell_type": "code",
   "execution_count": 14,
   "id": "af1d7204",
   "metadata": {},
   "outputs": [
    {
     "data": {
      "text/plain": [
       "{'Wait': 0,\n",
       " 'W': 1,\n",
       " 'A': 2,\n",
       " 'S': 3,\n",
       " 'D': 4,\n",
       " 'WA': 5,\n",
       " 'WD': 6,\n",
       " 'SD': 7,\n",
       " 'SA': 8,\n",
       " 'Ws': 9,\n",
       " 'As': 10,\n",
       " 'Ss': 11,\n",
       " 'Ds': 12,\n",
       " 'WAs': 13,\n",
       " 'WDs': 14,\n",
       " 'SDs': 15,\n",
       " 'SAs': 16,\n",
       " 'Wj': 17,\n",
       " 'Aj': 18,\n",
       " 'Sj': 19,\n",
       " 'Dj': 20,\n",
       " 'WAj': 21,\n",
       " 'WDj': 22,\n",
       " 'SDj': 23,\n",
       " 'SAj': 24,\n",
       " 'Wsj': 25,\n",
       " 'Asj': 26,\n",
       " 'Ssj': 27,\n",
       " 'Dsj': 28,\n",
       " 'WAsj': 29,\n",
       " 'WDsj': 30,\n",
       " 'SDsj': 31,\n",
       " 'SAsj': 32}"
      ]
     },
     "execution_count": 14,
     "metadata": {},
     "output_type": "execute_result"
    }
   ],
   "source": [
    "action_ids"
   ]
  },
  {
   "cell_type": "code",
   "execution_count": 9,
   "id": "19e17456",
   "metadata": {},
   "outputs": [],
   "source": [
    "import sys\n",
    "import pathlib\n",
    "\n",
    "path = str(pathlib.Path().absolute())\n",
    "path += '\\py'\n",
    "\n",
    "if path not in sys.path:\n",
    "    sys.path.insert(0,path)\n",
    "    print('path insert succeeded.')"
   ]
  },
  {
   "cell_type": "code",
   "execution_count": 10,
   "id": "b88ebcb2",
   "metadata": {},
   "outputs": [],
   "source": [
    "from environment import Environment\n",
    "import numpy as np\n",
    "import torch\n",
    "import torch.nn as nn\n",
    "\n",
    "import transformers"
   ]
  },
  {
   "cell_type": "raw",
   "id": "2dd09032",
   "metadata": {},
   "source": [
    "# agent : agent object\n",
    "# map_info : 2d array to represent current map's heights\n",
    "# goal_position : position object\n",
    "# num_states : number of states\n",
    "# num_actions : number of actions\n",
    "# consume_stamina_info : stamina consume amount / fps with respect to action id(integer)\n",
    "# fall_damage : damage that reduces agents' HP when he fall.\n",
    "# fall_min_height : the height that can make damage\n",
    "# MAX_timestep : cutting size\n",
    "# MAX_stamina : maximum stamina value that agent can have\n",
    "    # waiting_time : time until gain next action, unit_time=sec\n",
    "__init__(self, agent, map_info, goal_position,\n",
    "         num_states, num_actions, \n",
    "         state_ids, action_ids, \n",
    "         consume_stamina_info, \n",
    "         fall_damage,\n",
    "         fall_min_height,\n",
    "         MAX_timestep=500,\n",
    "         MAX_stamina=100, \n",
    "         waiting_time=2, \n",
    "         parachute_height=3):"
   ]
  },
  {
   "cell_type": "markdown",
   "id": "40d75a9f",
   "metadata": {},
   "source": [
    "Gaussian reference : https://codetorial.net/articles/normal_distribution.html"
   ]
  },
  {
   "cell_type": "code",
   "execution_count": 83,
   "id": "001376a8",
   "metadata": {},
   "outputs": [
    {
     "name": "stdout",
     "output_type": "stream",
     "text": [
      "[[0. 0. 0. ... 0. 0. 0.]\n",
      " [0. 0. 0. ... 0. 0. 0.]\n",
      " [0. 0. 0. ... 0. 0. 0.]\n",
      " ...\n",
      " [0. 0. 0. ... 0. 0. 0.]\n",
      " [0. 0. 0. ... 0. 0. 0.]\n",
      " [0. 0. 0. ... 0. 0. 0.]]\n"
     ]
    }
   ],
   "source": [
    "map_info = np.zeros((100,100),dtype=np.float64)\n",
    "print(map_info)"
   ]
  },
  {
   "cell_type": "code",
   "execution_count": 74,
   "id": "bb8ebd4c",
   "metadata": {},
   "outputs": [],
   "source": [
    "import math\n",
    "# a : tangent of gaussian distribution\n",
    "# mu : mean, np.array([x, y])\n",
    "# radius_x : radius of x position of mean point\n",
    "# radius_y : radius of y position of mean point\n",
    "# s_2 : variance\n",
    "def gaussian(scale, mu, radius_x, radius_y, s_2):\n",
    "    global map_info\n",
    "    centre_x, centre_y = mu[0], mu[1]\n",
    "    for x in range(centre_x - radius_x, centre_x + radius_x):\n",
    "        for y in range(centre_y - radius_y, centre_y + radius_y):\n",
    "            if x < 0 or y < 0 or x >= 100 or y >= 100:\n",
    "                continue\n",
    "            X = np.array([x, y])\n",
    "            g = scale * math.pow(math.e, -np.dot(X - mu, X - mu)/pow(s_2, 2))\n",
    "            g = g if g <= 20.0 else 20.0\n",
    "            map_info[x,y] = g\n",
    "    "
   ]
  },
  {
   "cell_type": "code",
   "execution_count": 25,
   "id": "b75c84f8",
   "metadata": {},
   "outputs": [
    {
     "name": "stdout",
     "output_type": "stream",
     "text": [
      "11 1\n",
      "16.0\n",
      "[[2 3]\n",
      " [4 1]]\n"
     ]
    }
   ],
   "source": [
    "# test\n",
    "a = np.array([1,2])\n",
    "b = np.array([3,4])\n",
    "c = np.dot(a,b)\n",
    "\n",
    "print(c, a[0])\n",
    "print(math.pow(2,4))\n",
    "print(np.array([[2,3],[4,1]]))"
   ]
  },
  {
   "cell_type": "code",
   "execution_count": 84,
   "id": "bcfcc664",
   "metadata": {},
   "outputs": [
    {
     "name": "stdout",
     "output_type": "stream",
     "text": [
      "[69 19 81 93 47 41 21 89 55 16]\n",
      "[55 79 95 10 27 81  2 13 82 76]\n"
     ]
    }
   ],
   "source": [
    "x = np.random.randint(1, 100, 10)\n",
    "y = np.random.randint(1, 100, 10)\n",
    "print(x)\n",
    "print(y)"
   ]
  },
  {
   "cell_type": "code",
   "execution_count": 85,
   "id": "28aca496",
   "metadata": {},
   "outputs": [
    {
     "name": "stdout",
     "output_type": "stream",
     "text": [
      "12.014291940804357\n",
      "12.068927346424699\n",
      "10.740871386109859\n",
      "10.004298000895151\n",
      "8.984483780270434\n",
      "8.518557561399481\n",
      "9.826047301819466\n",
      "9.550693575136298\n",
      "12.721334090378084\n",
      "10.45723224183312\n"
     ]
    }
   ],
   "source": [
    "for mu in zip(x, y):\n",
    "    radius_x = np.random.randint(10, 30) # 구릉의 반경 x방향\n",
    "    radius_y = np.random.randint(10, 30) # 구릉의 반경 y방향\n",
    "    s_2 = np.random.rand() + np.random.randint(8, 13) # variance. 크기가 클수록 넓은 범위가 됨\n",
    "    print(s_2)\n",
    "    g = gaussian(30, np.array(mu), radius_x, radius_y, s_2) # 20 : 최대 높이"
   ]
  },
  {
   "cell_type": "markdown",
   "id": "4804d190",
   "metadata": {},
   "source": [
    "### for saving and loading\n",
    "현재 2개까지 만듦 - 23, Sep., 21"
   ]
  },
  {
   "cell_type": "code",
   "execution_count": 88,
   "id": "ccd9b457",
   "metadata": {},
   "outputs": [],
   "source": [
    "import pickle\n",
    "\n",
    "with open('pkl/map_info_2.pkl', 'wb') as f:\n",
    "    pickle.dump(map_info, f)"
   ]
  },
  {
   "cell_type": "code",
   "execution_count": 17,
   "id": "7895f20a",
   "metadata": {},
   "outputs": [],
   "source": [
    "import pickle\n",
    "with open('pkl/map_info_1.pkl', 'rb') as f:\n",
    "    map_info = pickle.load(f)"
   ]
  },
  {
   "cell_type": "code",
   "execution_count": null,
   "id": "6bc0e6fe",
   "metadata": {},
   "outputs": [],
   "source": []
  },
  {
   "cell_type": "code",
   "execution_count": null,
   "id": "ea60a2fb",
   "metadata": {},
   "outputs": [],
   "source": []
  },
  {
   "cell_type": "code",
   "execution_count": 86,
   "id": "a5bf2ab1",
   "metadata": {},
   "outputs": [
    {
     "name": "stdout",
     "output_type": "stream",
     "text": [
      "[[ 0.2988672   0.30829926  0.31150897 ...  0.27210505  0.21106587\n",
      "   0.16148652]\n",
      " [ 0.45698221  0.47140428  0.47631208 ...  0.35079645  0.27210505\n",
      "   0.2081876 ]\n",
      " [ 0.68442236  0.70602229  0.7133727  ...  0.4460778   0.34601269\n",
      "   0.26473434]\n",
      " ...\n",
      " [ 2.33220435  3.06758122  3.9473277  ...  0.          0.\n",
      "   0.        ]\n",
      " [ 1.9356488   2.54598612  3.27614521 ...  0.          0.\n",
      "   0.        ]\n",
      " [ 7.70882429  9.32037129 11.04586807 ...  0.          0.\n",
      "   0.        ]]\n"
     ]
    }
   ],
   "source": [
    "print(map_info)"
   ]
  },
  {
   "cell_type": "code",
   "execution_count": 87,
   "id": "0b58a8e5",
   "metadata": {},
   "outputs": [
    {
     "data": {
      "image/png": "[encoded data removed]",
      "text/plain": [
       "<Figure size 432x288 with 1 Axes>"
      ]
     },
     "metadata": {
      "needs_background": "light"
     },
     "output_type": "display_data"
    }
   ],
   "source": [
    "from mpl_toolkits.mplot3d import axes3d\n",
    "import matplotlib.pyplot as plt\n",
    "\n",
    "\n",
    "fig = plt.figure()\n",
    "ax = fig.add_subplot(111, projection='3d')\n",
    "\n",
    "X = np.array([i for i in range(100)])\n",
    "X = np.tile(X, (100,1))\n",
    "Y = np.transpose(X)\n",
    "\n",
    "ax.plot_surface(X, Y, map_info)\n",
    "ax.set_zlim(-10, 50)\n",
    "\n",
    "plt.tight_layout()\n",
    "plt.show()"
   ]
  },
  {
   "cell_type": "raw",
   "id": "c21d57e4",
   "metadata": {},
   "source": [
    "# R, s, a, t: returns-to-go, states, actions, and timesteps\n",
    "# transformer: transformer with causal masking (GPT)\n",
    "# embed_s, embed_a, embed_R: linear embedding layers\n",
    "# pred_a: linear action prediction layer\n",
    "\n",
    "# main model\n",
    "def DecisionTransformer(R, s, a, t):\n",
    "    # compute embeddings for tokens\n",
    "    pos_embedding = embed_t(t)    # per-timestep (note: not per-token)"
   ]
  }
 ],
 "metadata": {
  "kernelspec": {
   "display_name": "Python 3 (ipykernel)",
   "language": "python",
   "name": "python3"
  },
  "language_info": {
   "codemirror_mode": {
    "name": "ipython",
    "version": 3
   },
   "file_extension": ".py",
   "mimetype": "text/x-python",
   "name": "python",
   "nbconvert_exporter": "python",
   "pygments_lexer": "ipython3",
   "version": "3.8.5"
  }
 },
 "nbformat": 4,
 "nbformat_minor": 5
}
